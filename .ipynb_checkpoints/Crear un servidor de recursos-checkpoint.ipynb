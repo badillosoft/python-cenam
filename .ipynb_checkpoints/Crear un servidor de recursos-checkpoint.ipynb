{
 "cells": [
  {
   "cell_type": "markdown",
   "metadata": {},
   "source": [
    "# Crear un servidor de recursos en Python\n",
    "\n",
    "Python es capaz de realizar cómputo y acceder a los recursos de nuestra computadora, en este sentido, python puede ser utilizado como un motor que cree una instancia en la computadora (un programa) que se apropie de la transferencia de datos sobre un puerto de la computadora y comience a transportar datos bajo el protocolo HTTP. Esto se conoce como levantar (montar) un servidor (de recursos).\n",
    "\n",
    "El servidor es aquel que está escuchando peticiones HTTP (principalmente) de clientes conectados a la red local. Cada petición de un cliente es una combinación entre una URL estructurada `http://<dominio>/<ruta>`, datos de transporte y un método de acceso (`GET`, `POST`, `PUT`, `DELETE`, ...).\n",
    "\n",
    "El método de acceso a un recurso mediante una URL es una petición de tipo `GET` la cuál se puede realizar desde cualquier navegador o en unix usando el comanto `curl <URL>`.\n",
    "\n",
    "El servidor va a escuchar la petición y comprobará la ruta solicitada en la URL (`<ruta>`). De tal forma que pueda invocar una función capaz de procesar en paralelo dicha ruta devolviendo los recursos solicitados como podrían ser:\n",
    "\n",
    "* Texto\n",
    "* Archivos\n",
    "* Cómputo en formatos: XML, JSON, Texto Plano, HTML\n",
    "\n",
    "Generalmente un servidor provee datos HTML los cuales recibe el cliente para pintar una interfaz. El servidor le dice al cliente que `ver`. Cuándo el servidor provee datos `JSON` (principalmente) se conoce como un API y el servidor se dice ser un `servicio web` o si está bien estructurado sería un API REST o `micro-servicio`."
   ]
  },
  {
   "cell_type": "markdown",
   "metadata": {},
   "source": [
    "Para crear un servidor en Python, podemos usar la librería flask. La cuál podemos instalar mediante `pip`."
   ]
  },
  {
   "cell_type": "code",
   "execution_count": null,
   "metadata": {},
   "outputs": [],
   "source": [
    "! pip install flask"
   ]
  },
  {
   "cell_type": "markdown",
   "metadata": {},
   "source": [
    "Lo siguiente es crear el programa el cuál mediante `flask` define los controladores (funciones decoradas) para las rutas de recursos."
   ]
  },
  {
   "cell_type": "code",
   "execution_count": 1,
   "metadata": {},
   "outputs": [
    {
     "name": "stdout",
     "output_type": "stream",
     "text": [
      " * Serving Flask app \"__main__\" (lazy loading)\n",
      " * Environment: production\n",
      "   WARNING: Do not use the development server in a production environment.\n",
      "   Use a production WSGI server instead.\n",
      " * Debug mode: off\n"
     ]
    },
    {
     "name": "stderr",
     "output_type": "stream",
     "text": [
      " * Running on http://127.0.0.1:5000/ (Press CTRL+C to quit)\n",
      "127.0.0.1 - - [18/Jul/2019 09:54:34] \"GET / HTTP/1.1\" 200 -\n",
      "127.0.0.1 - - [18/Jul/2019 09:54:35] \"GET /favicon.ico HTTP/1.1\" 404 -\n"
     ]
    }
   ],
   "source": [
    "from flask import Flask\n",
    "\n",
    "app = Flask(__name__)\n",
    "\n",
    "@app.route(\"/\")\n",
    "def home():\n",
    "    return \"Hola este es mi servidor\"\n",
    "\n",
    "app.run()"
   ]
  },
  {
   "cell_type": "markdown",
   "metadata": {},
   "source": [
    "En el programa anterior creamos una instancia de servidor llamada `app`. Mediante la cuál montamos o corremos el servidor con el método `app.run()`. Antes definimos una función llamada `home()` la cuál regresa un simple texto. La función `home()` fue decorada mediante `@app.route(\"/\")` lo cuál le indicó a `flask` que dicha función debería ser ejecutada cada que un cliente solicite el recurso `GET /`, es decir, cada que un cliente acceda a la ruta principal del servidor (`http://localhost:5000/`) entonces el cliente recibe del servidor el recurso de texto, mostrando en su navegador o en su terminal el recurso y pintándolo adecuadamente. "
   ]
  },
  {
   "cell_type": "markdown",
   "metadata": {},
   "source": [
    "Si nosotros accedemos a la ruta del servidor dónde fue montado (`http://host:port`) recibiremos los recursos definidos o un mensaje `404` de que el recurso no ha sido definido en esa ruta, por ejemplo, intente montar un servidor que no difine ruta principal."
   ]
  },
  {
   "cell_type": "code",
   "execution_count": 2,
   "metadata": {},
   "outputs": [
    {
     "name": "stdout",
     "output_type": "stream",
     "text": [
      " * Serving Flask app \"__main__\" (lazy loading)\n",
      " * Environment: production\n",
      "   WARNING: Do not use the development server in a production environment.\n",
      "   Use a production WSGI server instead.\n",
      " * Debug mode: off\n"
     ]
    },
    {
     "name": "stderr",
     "output_type": "stream",
     "text": [
      " * Running on http://127.0.0.1:5000/ (Press CTRL+C to quit)\n",
      "127.0.0.1 - - [18/Jul/2019 10:01:44] \"GET / HTTP/1.1\" 404 -\n"
     ]
    }
   ],
   "source": [
    "from flask import Flask\n",
    "\n",
    "app = Flask(__name__)\n",
    "\n",
    "app.run()"
   ]
  },
  {
   "cell_type": "markdown",
   "metadata": {},
   "source": [
    "El puerto por defecto que usa flask es el `5000` y el domino por defecto es `127.0.0.1`. Esto hace que los recursos sólo estén disponibles en la computadora actual, si quieramos compartir los recursos en la red, deberíamos al menos cambiar el host a `0.0.0.0` que significa que el servidor está disponible para cualquier IP. También podríamos cambiar el puerto por si el `5000` no estuviera disponible o si ubiera firewall."
   ]
  },
  {
   "cell_type": "code",
   "execution_count": 4,
   "metadata": {},
   "outputs": [
    {
     "name": "stdout",
     "output_type": "stream",
     "text": [
      " * Serving Flask app \"__main__\" (lazy loading)\n",
      " * Environment: production\n",
      "   WARNING: Do not use the development server in a production environment.\n",
      "   Use a production WSGI server instead.\n",
      " * Debug mode: off\n"
     ]
    },
    {
     "name": "stderr",
     "output_type": "stream",
     "text": [
      " * Running on http://0.0.0.0:3000/ (Press CTRL+C to quit)\n",
      "172.17.1.40 - - [18/Jul/2019 10:05:57] \"GET / HTTP/1.1\" 404 -\n",
      "172.17.1.40 - - [18/Jul/2019 10:05:57] \"GET /favicon.ico HTTP/1.1\" 404 -\n",
      "172.17.1.113 - - [18/Jul/2019 10:06:00] \"GET / HTTP/1.1\" 404 -\n",
      "172.17.1.113 - - [18/Jul/2019 10:06:00] \"GET /favicon.ico HTTP/1.1\" 404 -\n"
     ]
    }
   ],
   "source": [
    "from flask import Flask\n",
    "\n",
    "app = Flask(__name__)\n",
    "\n",
    "app.run(host=\"0.0.0.0\", port=3000)"
   ]
  },
  {
   "cell_type": "markdown",
   "metadata": {},
   "source": [
    "## Recursos HTML\n",
    "\n",
    "Las interfaces más rápidas de construir son las definidas mediante HTML, CSS y Javascript. La idea principal es crear una maquetación visual de todos los componentes en HTML, luego ajustar estilos (colores, formas, bordes, sombras, animaciones, ...) mediante CSS. Finalmente podemos crear una funcionalidad (conexión de eventos y transmisión de datos mediante Javascript).\n",
    "\n",
    "Una interfaz HTML es básicamente un texto plano con la estructura de etiquetas y scripts (de javascript). El cuál podemos generar directo en una cadena de texto en python o mediante una plantilla de un archivo físico."
   ]
  },
  {
   "cell_type": "code",
   "execution_count": 6,
   "metadata": {},
   "outputs": [
    {
     "name": "stdout",
     "output_type": "stream",
     "text": [
      " * Serving Flask app \"__main__\" (lazy loading)\n",
      " * Environment: production\n",
      "   WARNING: Do not use the development server in a production environment.\n",
      "   Use a production WSGI server instead.\n",
      " * Debug mode: off\n"
     ]
    },
    {
     "name": "stderr",
     "output_type": "stream",
     "text": [
      " * Running on http://0.0.0.0:3000/ (Press CTRL+C to quit)\n",
      "172.17.1.40 - - [18/Jul/2019 10:17:49] \"GET / HTTP/1.1\" 200 -\n"
     ]
    }
   ],
   "source": [
    "from flask import Flask\n",
    "\n",
    "app = Flask(__name__)\n",
    "\n",
    "@app.route(\"/\")\n",
    "def home():\n",
    "    return \"<h1>Hola este es mi servidor <em>v1.0</em></h1>\"\n",
    "\n",
    "app.run(host=\"0.0.0.0\", port=3000)"
   ]
  },
  {
   "cell_type": "code",
   "execution_count": 7,
   "metadata": {},
   "outputs": [
    {
     "name": "stdout",
     "output_type": "stream",
     "text": [
      " * Serving Flask app \"__main__\" (lazy loading)\n",
      " * Environment: production\n",
      "   WARNING: Do not use the development server in a production environment.\n",
      "   Use a production WSGI server instead.\n",
      " * Debug mode: off\n"
     ]
    },
    {
     "name": "stderr",
     "output_type": "stream",
     "text": [
      " * Running on http://0.0.0.0:3000/ (Press CTRL+C to quit)\n",
      "172.17.1.40 - - [18/Jul/2019 10:20:34] \"GET / HTTP/1.1\" 200 -\n",
      "172.17.1.40 - - [18/Jul/2019 10:20:53] \"GET /recibir-formulario?nombre=Mam%C3%A1+Coco&edad=123&fecha=2019-07-17 HTTP/1.1\" 404 -\n"
     ]
    }
   ],
   "source": [
    "from flask import Flask\n",
    "\n",
    "app = Flask(__name__)\n",
    "\n",
    "@app.route(\"/\")\n",
    "def home():\n",
    "    return \"\"\"\n",
    "    <form action='/recibir-formulario'>\n",
    "        <input name='nombre' placeholder='Nombre'>\n",
    "        <input name='edad' placeholder='Edad' type='number'>\n",
    "        <input name='fecha' placeholder='Fecha' type='date'>\n",
    "        <input type='submit'>\n",
    "    </form>\n",
    "    \"\"\"\n",
    "\n",
    "app.run(host=\"0.0.0.0\", port=3000)"
   ]
  },
  {
   "cell_type": "code",
   "execution_count": 12,
   "metadata": {},
   "outputs": [
    {
     "name": "stdout",
     "output_type": "stream",
     "text": [
      " * Serving Flask app \"__main__\" (lazy loading)\n",
      " * Environment: production\n",
      "   WARNING: Do not use the development server in a production environment.\n",
      "   Use a production WSGI server instead.\n",
      " * Debug mode: off\n"
     ]
    },
    {
     "name": "stderr",
     "output_type": "stream",
     "text": [
      " * Running on http://0.0.0.0:3000/ (Press CTRL+C to quit)\n",
      "172.17.1.40 - - [18/Jul/2019 10:33:35] \"GET /recibir-formulario?nombre=Coco&edad=123&fecha=1 HTTP/1.1\" 200 -\n"
     ]
    },
    {
     "name": "stdout",
     "output_type": "stream",
     "text": [
      "Coco 123 1\n"
     ]
    },
    {
     "name": "stderr",
     "output_type": "stream",
     "text": [
      "172.17.1.113 - - [18/Jul/2019 10:33:37] \"GET / HTTP/1.1\" 200 -\n",
      "172.17.1.40 - - [18/Jul/2019 10:33:46] \"GET / HTTP/1.1\" 200 -\n",
      "172.17.1.113 - - [18/Jul/2019 10:33:50] \"GET /recibir-formulario?nombre=OSkar&edad=26&fecha= HTTP/1.1\" 200 -\n"
     ]
    },
    {
     "name": "stdout",
     "output_type": "stream",
     "text": [
      "OSkar 26 \n"
     ]
    },
    {
     "name": "stderr",
     "output_type": "stream",
     "text": [
      "172.17.1.40 - - [18/Jul/2019 10:33:54] \"GET /recibir-formulario?nombre=Mam%C3%A1+Coco&edad=89&fecha=2019-07-11 HTTP/1.1\" 200 -\n"
     ]
    },
    {
     "name": "stdout",
     "output_type": "stream",
     "text": [
      "Mamá Coco 89 2019-07-11\n"
     ]
    },
    {
     "name": "stderr",
     "output_type": "stream",
     "text": [
      "172.17.1.113 - - [18/Jul/2019 10:33:59] \"GET / HTTP/1.1\" 200 -\n",
      "172.17.1.113 - - [18/Jul/2019 10:34:05] \"GET /recibir-formulario?nombre=&edad=&fecha=2017-07-18 HTTP/1.1\" 200 -\n"
     ]
    },
    {
     "name": "stdout",
     "output_type": "stream",
     "text": [
      "  2017-07-18\n"
     ]
    },
    {
     "name": "stderr",
     "output_type": "stream",
     "text": [
      "172.17.1.173 - - [18/Jul/2019 10:34:06] \"GET / HTTP/1.1\" 200 -\n",
      "172.17.1.173 - - [18/Jul/2019 10:34:06] \"GET /favicon.ico HTTP/1.1\" 404 -\n"
     ]
    }
   ],
   "source": [
    "from flask import Flask, request\n",
    "\n",
    "app = Flask(__name__)\n",
    "\n",
    "@app.route(\"/\")\n",
    "def home():\n",
    "    return \"\"\"\n",
    "    <h1>Años está</h1>\n",
    "    <form action='/recibir-formulario'>\n",
    "        <input id='nombre' name='nombre' placeholder='Nombre'>\n",
    "        <input id='edad' name='edad' placeholder='Edad' type='number'>\n",
    "        <input id='fecha' name='fecha' placeholder='Fecha' type='date'>\n",
    "        <input type='submit'>\n",
    "    </form>\n",
    "    \"\"\"\n",
    "\n",
    "@app.route(\"/recibir-formulario\")\n",
    "def procesar_formulario():\n",
    "    nombre = request.args.get(\"nombre\")\n",
    "    edad = request.args.get(\"edad\")\n",
    "    fecha = request.args.get(\"fecha\")\n",
    "    \n",
    "    print(nombre, edad, fecha)\n",
    "    \n",
    "    return \"Hola {}, tienes {} años, seguro que está es la fecha {}?\".format(nombre, edad, fecha)\n",
    "\n",
    "app.run(host=\"0.0.0.0\", port=3000)"
   ]
  },
  {
   "cell_type": "code",
   "execution_count": null,
   "metadata": {},
   "outputs": [
    {
     "name": "stdout",
     "output_type": "stream",
     "text": [
      " * Serving Flask app \"__main__\" (lazy loading)\n",
      " * Environment: production\n",
      "   WARNING: Do not use the development server in a production environment.\n",
      "   Use a production WSGI server instead.\n",
      " * Debug mode: off\n"
     ]
    },
    {
     "name": "stderr",
     "output_type": "stream",
     "text": [
      " * Running on http://0.0.0.0:3000/ (Press CTRL+C to quit)\n",
      "172.17.1.40 - - [18/Jul/2019 10:37:02] \"GET / HTTP/1.1\" 200 -\n",
      "172.17.1.113 - - [18/Jul/2019 10:37:03] \"GET /recibir-formulario?nombre=&edad=&fecha=2017-07-18 HTTP/1.1\" 404 -\n",
      "172.17.1.173 - - [18/Jul/2019 10:37:07] \"GET / HTTP/1.1\" 200 -\n",
      "172.17.1.113 - - [18/Jul/2019 10:37:11] \"GET / HTTP/1.1\" 200 -\n",
      "172.17.1.173 - - [18/Jul/2019 10:37:21] \"GET / HTTP/1.1\" 200 -\n",
      "172.17.1.113 - - [18/Jul/2019 10:37:23] \"GET / HTTP/1.1\" 200 -\n",
      "172.17.1.113 - - [18/Jul/2019 10:37:26] \"GET / HTTP/1.1\" 200 -\n",
      "172.17.1.113 - - [18/Jul/2019 10:37:27] \"GET / HTTP/1.1\" 200 -\n",
      "172.17.1.113 - - [18/Jul/2019 10:37:29] \"GET / HTTP/1.1\" 200 -\n",
      "172.17.1.113 - - [18/Jul/2019 10:37:31] \"GET / HTTP/1.1\" 200 -\n",
      "172.17.1.113 - - [18/Jul/2019 10:37:36] \"GET / HTTP/1.1\" 200 -\n",
      "172.17.1.113 - - [18/Jul/2019 10:37:39] \"GET / HTTP/1.1\" 200 -\n",
      "172.17.1.113 - - [18/Jul/2019 10:37:41] \"GET / HTTP/1.1\" 200 -\n",
      "172.17.1.113 - - [18/Jul/2019 10:37:44] \"GET / HTTP/1.1\" 200 -\n",
      "172.17.1.113 - - [18/Jul/2019 10:37:45] \"GET / HTTP/1.1\" 200 -\n",
      "172.17.1.113 - - [18/Jul/2019 10:37:46] \"GET / HTTP/1.1\" 200 -\n",
      "172.17.1.113 - - [18/Jul/2019 10:37:47] \"GET / HTTP/1.1\" 200 -\n",
      "172.17.1.113 - - [18/Jul/2019 10:37:48] \"GET / HTTP/1.1\" 200 -\n",
      "172.17.1.113 - - [18/Jul/2019 10:37:49] \"GET / HTTP/1.1\" 200 -\n",
      "172.17.1.113 - - [18/Jul/2019 10:37:50] \"GET / HTTP/1.1\" 200 -\n",
      "172.17.1.113 - - [18/Jul/2019 10:37:51] \"GET / HTTP/1.1\" 200 -\n",
      "172.17.1.113 - - [18/Jul/2019 10:37:51] \"GET / HTTP/1.1\" 200 -\n",
      "172.17.1.173 - - [18/Jul/2019 10:37:52] \"GET / HTTP/1.1\" 200 -\n",
      "172.17.1.113 - - [18/Jul/2019 10:37:53] \"GET / HTTP/1.1\" 200 -\n",
      "172.17.1.113 - - [18/Jul/2019 10:37:54] \"GET / HTTP/1.1\" 200 -\n",
      "172.17.1.113 - - [18/Jul/2019 10:37:55] \"GET / HTTP/1.1\" 200 -\n",
      "172.17.1.40 - - [18/Jul/2019 10:38:06] \"GET / HTTP/1.1\" 200 -\n",
      "172.17.1.40 - - [18/Jul/2019 10:38:08] \"GET / HTTP/1.1\" 200 -\n",
      "172.17.1.40 - - [18/Jul/2019 10:38:08] \"GET / HTTP/1.1\" 200 -\n",
      "172.17.1.40 - - [18/Jul/2019 10:38:09] \"GET / HTTP/1.1\" 200 -\n",
      "172.17.1.40 - - [18/Jul/2019 10:38:09] \"GET / HTTP/1.1\" 200 -\n"
     ]
    }
   ],
   "source": [
    "from flask import Flask, request, render_template\n",
    "\n",
    "app = Flask(__name__)\n",
    "\n",
    "@app.route(\"/\")\n",
    "def home():\n",
    "    return render_template(\"home.html\")\n",
    "\n",
    "app.run(host=\"0.0.0.0\", port=3000)"
   ]
  },
  {
   "cell_type": "code",
   "execution_count": null,
   "metadata": {},
   "outputs": [],
   "source": []
  },
  {
   "cell_type": "code",
   "execution_count": null,
   "metadata": {},
   "outputs": [],
   "source": []
  }
 ],
 "metadata": {
  "kernelspec": {
   "display_name": "Python 3",
   "language": "python",
   "name": "python3"
  },
  "language_info": {
   "codemirror_mode": {
    "name": "ipython",
    "version": 3
   },
   "file_extension": ".py",
   "mimetype": "text/x-python",
   "name": "python",
   "nbconvert_exporter": "python",
   "pygments_lexer": "ipython3",
   "version": "3.7.3"
  }
 },
 "nbformat": 4,
 "nbformat_minor": 2
}
