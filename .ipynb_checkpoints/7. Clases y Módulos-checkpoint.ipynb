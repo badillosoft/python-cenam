{
 "cells": [
  {
   "cell_type": "markdown",
   "metadata": {},
   "source": [
    "# Clases y Módulos\n",
    "\n",
    "Una clase es un modelo apróximado de los elementos naturales los cuáles son abstraídos mediante las características de los elementos llamados los `atributos` y la funcionalidad (o sus mecanísmos de comportamiento) de los elementos llamados los `métodos`.\n",
    "\n",
    "Una clase es un patrón de diseño que modela elementos mediante atributos y métodos, los cuáles definen un contexto aislado para cada instancia que se construye a partir del diseño de la clase, a estos contextos (o instancias) se les conoce como objetos.\n",
    "\n",
    "Para diseñar una clase debemos pensar en 4 elementos de diseño:\n",
    "\n",
    "* Atributos: que son variables dentro del contexto de clase, con valores únicos para cada instancia/objeto/contexto.\n",
    "* Métodos: que son funciones especiales dentro de la clase las cuales tienen acceso al objeto/instancia/contexto.\n",
    "* Constructor: que es un función especial (método) con nombre `__init__` el cuál contruye el objeto/instancia/contexto antes de ser funcional. A este contructor se le suele llamar el iniciador de la instancia/objeto/contexto.\n",
    "* Herencia: es un mecanismo para modificar o expandir (alterar) otra clase, agregando un nuevo diseño, por ejemplo, más atributos, más métodos, o sobreescribiendo partes de la clase superior."
   ]
  },
  {
   "cell_type": "markdown",
   "metadata": {},
   "source": [
    "## Crear un clase\n",
    "\n",
    "En el siguiente ejemplo definimos una clase llamada Persona mediante `class Persona`.\n",
    "\n",
    "En su bloque de construcción definimos dos funciones funciones especiales (dos métodos), los cuales reciben como primer parámetro a `self`.\n",
    "\n",
    "El parámetro `self` es la instancia/objeto/contexto único para cada instancia de la clase, este contiene sus atributos y métodos definos por la clase y su constructor.\n",
    "\n",
    "El método `__init__` es el constructor de la clase y va a recibir como primer parámetro (`self` no cuenta como parámetro) una variable llamada nombre. Dicha variable las vamos a guardar como atributo del objeto `self`.\n",
    "\n",
    "El método `saludar` no recibe parámetros (`self` no cuenta como parámetro) y se dedica a imprimir un mensaje de saludo accediendo a los atributos definidos en el contexto `self`."
   ]
  },
  {
   "cell_type": "code",
   "execution_count": 1,
   "metadata": {},
   "outputs": [],
   "source": [
    "class Persona:\n",
    "    def __init__(self, nombre):\n",
    "        self.nombre = nombre\n",
    "    def saludar(self):\n",
    "        print(\"Hola me llamo {}\".format(self.nombre))"
   ]
  },
  {
   "cell_type": "markdown",
   "metadata": {},
   "source": [
    "## Instanciar una clase en un objeto\n",
    "\n",
    "En el siguiente ejemplo creamos una variable llamada `pepe` la cuál es una instancia de la clase `Persona` y se contruye mandando los parámetros que han sido solicitados en el diseño de la clase en su constructor `__init__` (el parámetro `nombre`).\n",
    "\n",
    "Observa que la descripción del objeto es la dicción de memoria de la instancia.\n",
    "\n",
    "Observa que en cualquier momento podemos acceder a los atributos del objeto (incluso modificarlos) y mandar a ejecutar sus métodos."
   ]
  },
  {
   "cell_type": "code",
   "execution_count": 2,
   "metadata": {},
   "outputs": [
    {
     "data": {
      "text/plain": [
       "<__main__.Persona at 0x112217e48>"
      ]
     },
     "execution_count": 2,
     "metadata": {},
     "output_type": "execute_result"
    }
   ],
   "source": [
    "pepe = Persona(\"pepe\")\n",
    "\n",
    "pepe"
   ]
  },
  {
   "cell_type": "code",
   "execution_count": 3,
   "metadata": {},
   "outputs": [
    {
     "data": {
      "text/plain": [
       "'pepe'"
      ]
     },
     "execution_count": 3,
     "metadata": {},
     "output_type": "execute_result"
    }
   ],
   "source": [
    "pepe.nombre"
   ]
  },
  {
   "cell_type": "code",
   "execution_count": 4,
   "metadata": {},
   "outputs": [
    {
     "name": "stdout",
     "output_type": "stream",
     "text": [
      "Hola me llamo pepe\n"
     ]
    }
   ],
   "source": [
    "pepe.saludar()"
   ]
  },
  {
   "cell_type": "markdown",
   "metadata": {},
   "source": [
    "## Ejemplo más complejo"
   ]
  },
  {
   "cell_type": "code",
   "execution_count": 5,
   "metadata": {},
   "outputs": [
    {
     "name": "stdout",
     "output_type": "stream",
     "text": [
      "(1.00, 1.00)\n",
      "(2.41, 2.41)\n"
     ]
    }
   ],
   "source": [
    "import math\n",
    "\n",
    "class Robot:\n",
    "    def __init__(self, x, y):\n",
    "        self.x = x\n",
    "        self.y = y\n",
    "    def avanzar(self, d, a):\n",
    "        self.x += d * math.cos(a * math.pi / 180)\n",
    "        self.y += d * math.sin(a * math.pi / 180)\n",
    "    def info(self):\n",
    "        print(\"({:.2f}, {:.2f})\".format(self.x, self.y))\n",
    "\n",
    "ar2d2 = Robot(1, 1)\n",
    "\n",
    "ar2d2.info()\n",
    "\n",
    "ar2d2.avanzar(2, 45)\n",
    "\n",
    "ar2d2.info()"
   ]
  },
  {
   "cell_type": "markdown",
   "metadata": {},
   "source": [
    "## Herencia\n",
    "\n",
    "La herencia es derivar una clase en otra clase agrando o modificando su funcionalidad."
   ]
  },
  {
   "cell_type": "code",
   "execution_count": 6,
   "metadata": {},
   "outputs": [
    {
     "name": "stdout",
     "output_type": "stream",
     "text": [
      "(10.00, 10.00)\n",
      "(11.00, 10.00)\n",
      "(11.00, 11.00)\n",
      "(10.00, 11.00)\n",
      "(10.00, 10.00)\n"
     ]
    }
   ],
   "source": [
    "class RobotC3P0(Robot):\n",
    "    def walkSquare(self):\n",
    "        self.avanzar(1, 0)\n",
    "        self.info()\n",
    "        self.avanzar(1, 90)\n",
    "        self.info()\n",
    "        self.avanzar(1, 180)\n",
    "        self.info()\n",
    "        self.avanzar(1, 270)\n",
    "        self.info()\n",
    "        \n",
    "c3p0 = RobotC3P0(10, 10)\n",
    "\n",
    "c3p0.info()\n",
    "\n",
    "c3p0.walkSquare()"
   ]
  },
  {
   "cell_type": "code",
   "execution_count": 7,
   "metadata": {},
   "outputs": [
    {
     "ename": "AttributeError",
     "evalue": "'Robot' object has no attribute 'walkSquare'",
     "output_type": "error",
     "traceback": [
      "\u001b[0;31m---------------------------------------------------------------------------\u001b[0m",
      "\u001b[0;31mAttributeError\u001b[0m                            Traceback (most recent call last)",
      "\u001b[0;32m<ipython-input-7-cea7b32f3c80>\u001b[0m in \u001b[0;36m<module>\u001b[0;34m\u001b[0m\n\u001b[0;32m----> 1\u001b[0;31m \u001b[0mar2d2\u001b[0m\u001b[0;34m.\u001b[0m\u001b[0mwalkSquare\u001b[0m\u001b[0;34m(\u001b[0m\u001b[0;34m)\u001b[0m\u001b[0;34m\u001b[0m\u001b[0;34m\u001b[0m\u001b[0m\n\u001b[0m",
      "\u001b[0;31mAttributeError\u001b[0m: 'Robot' object has no attribute 'walkSquare'"
     ]
    }
   ],
   "source": [
    "ar2d2.walkSquare()"
   ]
  },
  {
   "cell_type": "markdown",
   "metadata": {},
   "source": [
    "## Crear un módulo de python\n",
    "\n",
    "Un módulo en python es prácticamente cualquier achivo de python que contenga funciones y clases.\n",
    "\n",
    "> **Buena práctica:** NUNCA se debe poner código funcional (ejecutable) en un archivo de python que será utilizado como módulo. Es decir, los módulos deben limitarse a definir funciones y clases, pero esto no es restrictivo, se podría usar cualquier pograma como módulo, pero cada que sea llamado el módulo ejecutaría todo el código pudiendo generar un alto consumo de cómputo."
   ]
  },
  {
   "cell_type": "markdown",
   "metadata": {},
   "source": [
    "1. Primero debemos crear un archivo con cualquier nombre que no contenga espacios, caracteretes especiales y en minúsculas, es decir, como si fuera el nombre de una variables, por ejemplo: `mi_modulo.py`, `util.py`, `analisis.py`, `graficacion.py`, etc.\n",
    "\n",
    "En el siguiente ejemplo, vamos a crear el archivo `robot.py` que contenga la importación a `math` ya que hay dependencia en las clases definidas, y definir dos clases para que sean utilizables en cualquier momento que se importen."
   ]
  },
  {
   "cell_type": "code",
   "execution_count": null,
   "metadata": {},
   "outputs": [],
   "source": [
    "import math\n",
    "\n",
    "class Robot:\n",
    "    def __init__(self, x, y):\n",
    "        self.x = x\n",
    "        self.y = y\n",
    "    def avanzar(self, d, a):\n",
    "        self.x += d * math.cos(a * math.pi / 180)\n",
    "        self.y += d * math.sin(a * math.pi / 180)\n",
    "    def info(self):\n",
    "        print(\"({:.2f}, {:.2f})\".format(self.x, self.y))\n",
    "        \n",
    "class RobotC3P0(Robot):\n",
    "    def walkSquare(self):\n",
    "        self.avanzar(1, 0)\n",
    "        self.info()\n",
    "        self.avanzar(1, 90)\n",
    "        self.info()\n",
    "        self.avanzar(1, 180)\n",
    "        self.info()\n",
    "        self.avanzar(1, 270)\n",
    "        self.info()"
   ]
  },
  {
   "cell_type": "markdown",
   "metadata": {},
   "source": [
    "2. Una vez definido el archivo `robot.py` podemos importarlo en cualquier programa que creemos a partir de ahora. Siempre y cuándo el archivo `robot.py` esté en nuestra carpeta o junto a los módulos dónde se instaló python en la carpeta `site_packages`.\n",
    "\n",
    "Existen tres tipos de importación para usar nuestro módulos:\n",
    "\n",
    "* Importación Canónica: `import robot`\n",
    "* Importación Por Alias: `import robot as rb`\n",
    "* Importación Por Partes: `from robot import Robot`"
   ]
  },
  {
   "cell_type": "code",
   "execution_count": 8,
   "metadata": {},
   "outputs": [
    {
     "name": "stdout",
     "output_type": "stream",
     "text": [
      "(11.00, 10.00)\n",
      "(11.00, 11.00)\n",
      "(10.00, 11.00)\n",
      "(10.00, 10.00)\n"
     ]
    }
   ],
   "source": [
    "import robot\n",
    "\n",
    "c3p0 = robot.RobotC3P0(10, 10)\n",
    "\n",
    "c3p0.walkSquare()"
   ]
  },
  {
   "cell_type": "code",
   "execution_count": 10,
   "metadata": {},
   "outputs": [
    {
     "name": "stdout",
     "output_type": "stream",
     "text": [
      "(10.00, 10.00)\n"
     ]
    }
   ],
   "source": [
    "import robot as rb\n",
    "\n",
    "robot = rb.Robot(10, 10)\n",
    "\n",
    "robot.info()"
   ]
  },
  {
   "cell_type": "code",
   "execution_count": 11,
   "metadata": {},
   "outputs": [
    {
     "name": "stdout",
     "output_type": "stream",
     "text": [
      "(10.00, 10.00)\n"
     ]
    }
   ],
   "source": [
    "from robot import Robot\n",
    "\n",
    "robot = Robot(10, 10)\n",
    "\n",
    "robot.info()"
   ]
  }
 ],
 "metadata": {
  "kernelspec": {
   "display_name": "Python 3",
   "language": "python",
   "name": "python3"
  },
  "language_info": {
   "codemirror_mode": {
    "name": "ipython",
    "version": 3
   },
   "file_extension": ".py",
   "mimetype": "text/x-python",
   "name": "python",
   "nbconvert_exporter": "python",
   "pygments_lexer": "ipython3",
   "version": "3.7.3"
  }
 },
 "nbformat": 4,
 "nbformat_minor": 2
}
