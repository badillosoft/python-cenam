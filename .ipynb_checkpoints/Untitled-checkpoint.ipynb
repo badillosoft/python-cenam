{
 "cells": [
  {
   "cell_type": "markdown",
   "metadata": {},
   "source": [
    "# Ejercicios 1"
   ]
  },
  {
   "cell_type": "markdown",
   "metadata": {},
   "source": [
    "Solicitar una posición inicial `x0, y0`, una velocidad inicial `v0x, v0y` y determinar lo siguiente:\n",
    "\n",
    "* La magnitud de la velocidad inicial: `raíz de (v0x^2 + v0y^2)`\n",
    "* El ángulo de inclinación de las velocidades: `atan2(v0y, v0x)`"
   ]
  },
  {
   "cell_type": "markdown",
   "metadata": {},
   "source": [
    "Continuando el ejercicio anterior. Solicitar un tiempo y calcular la posición en ese tiempo de `x` y `y` mediante las ecuaciones:\n",
    "\n",
    "* x = v0x * t + x0\n",
    "* y = v0y * t + y0 - 9.81 * t^2 / 2"
   ]
  },
  {
   "cell_type": "markdown",
   "metadata": {},
   "source": [
    "# Ejercicios 2"
   ]
  },
  {
   "cell_type": "markdown",
   "metadata": {},
   "source": [
    "La función `np.sin(x)` es capaz de calcular el seno para cada elemento del vector `x`. Usando está información crea un vector `x` de 100 valores utilizando `np.linspace(-np.pi, np.pi, 100)` y calcula el vector `y = np.sin(x)`. Grafica ambos arreglos usando `plt.plot(x, y, \"o\")`."
   ]
  },
  {
   "cell_type": "code",
   "execution_count": null,
   "metadata": {},
   "outputs": [],
   "source": []
  },
  {
   "cell_type": "code",
   "execution_count": null,
   "metadata": {},
   "outputs": [],
   "source": []
  },
  {
   "cell_type": "code",
   "execution_count": null,
   "metadata": {},
   "outputs": [],
   "source": []
  },
  {
   "cell_type": "code",
   "execution_count": null,
   "metadata": {},
   "outputs": [],
   "source": []
  },
  {
   "cell_type": "code",
   "execution_count": null,
   "metadata": {},
   "outputs": [],
   "source": []
  },
  {
   "cell_type": "code",
   "execution_count": null,
   "metadata": {},
   "outputs": [],
   "source": []
  },
  {
   "cell_type": "code",
   "execution_count": null,
   "metadata": {},
   "outputs": [],
   "source": []
  }
 ],
 "metadata": {
  "kernelspec": {
   "display_name": "Python 3",
   "language": "python",
   "name": "python3"
  },
  "language_info": {
   "codemirror_mode": {
    "name": "ipython",
    "version": 3
   },
   "file_extension": ".py",
   "mimetype": "text/x-python",
   "name": "python",
   "nbconvert_exporter": "python",
   "pygments_lexer": "ipython3",
   "version": "3.7.3"
  }
 },
 "nbformat": 4,
 "nbformat_minor": 2
}
