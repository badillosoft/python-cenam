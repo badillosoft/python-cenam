{
 "cells": [
  {
   "cell_type": "markdown",
   "metadata": {},
   "source": [
    "# Variables y tipos de datos\n",
    "\n",
    "Las variables en python son accesos a memoria para recuperar datos guardados mediante un nombre (el nombre de la variable). En python no hay que advertir que vamos a utilizar una variable (ni siquiera hay que decir cuál será el valor y tipo de dato), bastará con utilizar el nombre, si la variable no existía la creará y sino la reemplazará."
   ]
  },
  {
   "cell_type": "markdown",
   "metadata": {},
   "source": [
    "Existen los siguientes tipos de datos básicos en python y que puede calcular implícitamente: `int`, `float`, `bool`, `str (string)`, `complex`, `None`"
   ]
  },
  {
   "cell_type": "code",
   "execution_count": 2,
   "metadata": {},
   "outputs": [
    {
     "name": "stdout",
     "output_type": "stream",
     "text": [
      "<class 'int'>\n",
      "<class 'float'>\n",
      "<class 'complex'>\n",
      "<class 'bool'>\n",
      "<class 'bool'>\n",
      "<class 'str'>\n",
      "<class 'str'>\n",
      "<class 'NoneType'>\n"
     ]
    }
   ],
   "source": [
    "a = 123 # a (int)\n",
    "\n",
    "b = 123.456 # b (float)\n",
    "\n",
    "c = 123 + 456j # c (complex)\n",
    "\n",
    "d = True # d (bool)\n",
    "\n",
    "e = False # e (bool)\n",
    "\n",
    "f = \"Hola mundo\" # f (str)\n",
    "\n",
    "g = 'Hola mundo' # g (str)\n",
    "\n",
    "h = None # h (NoneType)\n",
    "\n",
    "print(type(a))\n",
    "print(type(b))\n",
    "print(type(c))\n",
    "print(type(d))\n",
    "print(type(e))\n",
    "print(type(f))\n",
    "print(type(g))\n",
    "print(type(h))"
   ]
  },
  {
   "cell_type": "markdown",
   "metadata": {},
   "source": [
    "**Ejercicio:** Solicitar los datos de dos puntos, para calcular la pendiente y el punto de intercepción al origen.\n",
    "\n",
    "> Vamos a solicitar al usuario `x1`, `x2`, `y1`, `y2` floatantes"
   ]
  },
  {
   "cell_type": "code",
   "execution_count": 21,
   "metadata": {},
   "outputs": [
    {
     "name": "stdin",
     "output_type": "stream",
     "text": [
      "Dame x1:  1\n",
      "Dame x2:  2\n",
      "Dame y1:  1\n",
      "Dame y2:  2\n"
     ]
    }
   ],
   "source": [
    "x1 = float( input(\"Dame x1: \") )\n",
    "x2 = float( input(\"Dame x2: \") )\n",
    "y1 = float( input(\"Dame y1: \") )\n",
    "y2 = float( input(\"Dame y2: \") )"
   ]
  },
  {
   "cell_type": "markdown",
   "metadata": {},
   "source": [
    "Imprimimos los valores de los puntos bajo un formato adecuado."
   ]
  },
  {
   "cell_type": "code",
   "execution_count": 22,
   "metadata": {},
   "outputs": [
    {
     "name": "stdout",
     "output_type": "stream",
     "text": [
      "A:(1.0, 1.0) B:(2.0, 2.0)\n"
     ]
    }
   ],
   "source": [
    "print( \"A:({}, {}) B:({}, {})\".format(x1, y1, x2, y2) )"
   ]
  },
  {
   "cell_type": "markdown",
   "metadata": {},
   "source": [
    "Calculamos el valor de la pendiente y punto de intercepción."
   ]
  },
  {
   "cell_type": "code",
   "execution_count": 23,
   "metadata": {},
   "outputs": [
    {
     "name": "stdout",
     "output_type": "stream",
     "text": [
      "m=1.0 b=0.0\n"
     ]
    }
   ],
   "source": [
    "m = (y2 - y1) / (x2 - x1)\n",
    "\n",
    "b = y1 - m * x1\n",
    "\n",
    "print(\"m={} b={}\".format(m, b))"
   ]
  },
  {
   "cell_type": "markdown",
   "metadata": {},
   "source": [
    "Obtenemos el punto (x, y) a t porcentaje entre el punto A y el punto B."
   ]
  },
  {
   "cell_type": "code",
   "execution_count": 28,
   "metadata": {},
   "outputs": [
    {
     "name": "stdin",
     "output_type": "stream",
     "text": [
      "Dame t: 0.5\n"
     ]
    },
    {
     "name": "stdout",
     "output_type": "stream",
     "text": [
      "t=0.5 (x=1.5 y=1.5)\n"
     ]
    }
   ],
   "source": [
    "t = float( input(\"Dame t:\") )\n",
    "\n",
    "x = t * (x2 - x1) + x1\n",
    "\n",
    "y = m * x + b\n",
    "\n",
    "print(\"t={} (x={} y={})\".format(t, x, y))"
   ]
  }
 ],
 "metadata": {
  "kernelspec": {
   "display_name": "Python 3",
   "language": "python",
   "name": "python3"
  },
  "language_info": {
   "codemirror_mode": {
    "name": "ipython",
    "version": 3
   },
   "file_extension": ".py",
   "mimetype": "text/x-python",
   "name": "python",
   "nbconvert_exporter": "python",
   "pygments_lexer": "ipython3",
   "version": "3.7.3"
  }
 },
 "nbformat": 4,
 "nbformat_minor": 2
}
