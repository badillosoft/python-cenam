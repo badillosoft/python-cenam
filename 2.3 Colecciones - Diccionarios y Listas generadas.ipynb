{
 "cells": [
  {
   "cell_type": "markdown",
   "metadata": {},
   "source": [
    "# Colecciones - Diccionarios\n",
    "\n",
    "Los diccionarios son estructuras que nos permiten almacenar datos mediante claves nombradas a diferencia de las listas que generan índices automáticos que parten de cero."
   ]
  },
  {
   "cell_type": "code",
   "execution_count": 1,
   "metadata": {},
   "outputs": [
    {
     "data": {
      "text/plain": [
       "{'nombre': 'Pepe',\n",
       " 'edad': 17,\n",
       " 'calificaciones': [9, 8, 9, 10, 5],\n",
       " 'estatura_peso': (1.8, 90)}"
      ]
     },
     "execution_count": 1,
     "metadata": {},
     "output_type": "execute_result"
    }
   ],
   "source": [
    "persona = {\n",
    "    \"nombre\": \"Pepe\",\n",
    "    \"edad\": 17,\n",
    "    \"calificaciones\": [9, 8, 9, 10, 5],\n",
    "    \"estatura_peso\": (1.8, 90)\n",
    "}\n",
    "\n",
    "persona"
   ]
  },
  {
   "cell_type": "code",
   "execution_count": 2,
   "metadata": {},
   "outputs": [
    {
     "data": {
      "text/plain": [
       "'Pepe'"
      ]
     },
     "execution_count": 2,
     "metadata": {},
     "output_type": "execute_result"
    }
   ],
   "source": [
    "persona[\"nombre\"]"
   ]
  },
  {
   "cell_type": "code",
   "execution_count": 3,
   "metadata": {},
   "outputs": [
    {
     "data": {
      "text/plain": [
       "[9, 8, 9, 10, 5]"
      ]
     },
     "execution_count": 3,
     "metadata": {},
     "output_type": "execute_result"
    }
   ],
   "source": [
    "persona[\"calificaciones\"]"
   ]
  },
  {
   "cell_type": "code",
   "execution_count": 4,
   "metadata": {},
   "outputs": [
    {
     "data": {
      "text/plain": [
       "(1.8, 90)"
      ]
     },
     "execution_count": 4,
     "metadata": {},
     "output_type": "execute_result"
    }
   ],
   "source": [
    "persona[\"estatura_peso\"]"
   ]
  },
  {
   "cell_type": "code",
   "execution_count": 5,
   "metadata": {},
   "outputs": [
    {
     "ename": "KeyError",
     "evalue": "'x'",
     "output_type": "error",
     "traceback": [
      "\u001b[0;31m---------------------------------------------------------------------------\u001b[0m",
      "\u001b[0;31mKeyError\u001b[0m                                  Traceback (most recent call last)",
      "\u001b[0;32m<ipython-input-5-95b7b4da0fa5>\u001b[0m in \u001b[0;36m<module>\u001b[0;34m\u001b[0m\n\u001b[0;32m----> 1\u001b[0;31m \u001b[0mpersona\u001b[0m\u001b[0;34m[\u001b[0m\u001b[0;34m\"x\"\u001b[0m\u001b[0;34m]\u001b[0m\u001b[0;34m\u001b[0m\u001b[0;34m\u001b[0m\u001b[0m\n\u001b[0m",
      "\u001b[0;31mKeyError\u001b[0m: 'x'"
     ]
    }
   ],
   "source": [
    "persona[\"x\"]"
   ]
  },
  {
   "cell_type": "code",
   "execution_count": 6,
   "metadata": {},
   "outputs": [],
   "source": [
    "persona[\"x\"] = 123"
   ]
  },
  {
   "cell_type": "code",
   "execution_count": 7,
   "metadata": {},
   "outputs": [
    {
     "data": {
      "text/plain": [
       "123"
      ]
     },
     "execution_count": 7,
     "metadata": {},
     "output_type": "execute_result"
    }
   ],
   "source": [
    "persona[\"x\"]"
   ]
  },
  {
   "cell_type": "code",
   "execution_count": 8,
   "metadata": {},
   "outputs": [],
   "source": [
    "if \"y\" in persona:\n",
    "    print(persona[\"y\"])"
   ]
  },
  {
   "cell_type": "code",
   "execution_count": 9,
   "metadata": {},
   "outputs": [
    {
     "data": {
      "text/plain": [
       "'Hola'"
      ]
     },
     "execution_count": 9,
     "metadata": {},
     "output_type": "execute_result"
    }
   ],
   "source": [
    "if not \"y\" in persona:\n",
    "    persona[\"y\"] = \"Hola\"\n",
    "    \n",
    "persona[\"y\"]"
   ]
  },
  {
   "cell_type": "code",
   "execution_count": 10,
   "metadata": {},
   "outputs": [
    {
     "data": {
      "text/plain": [
       "2.5"
      ]
     },
     "execution_count": 10,
     "metadata": {},
     "output_type": "execute_result"
    }
   ],
   "source": [
    "persona[\"z\"] = 2.5\n",
    "\n",
    "if not \"z\" in persona:\n",
    "    persona[\"z\"] = 100\n",
    "    \n",
    "persona[\"z\"]"
   ]
  },
  {
   "cell_type": "code",
   "execution_count": 11,
   "metadata": {},
   "outputs": [
    {
     "data": {
      "text/plain": [
       "dict_keys(['nombre', 'edad', 'calificaciones', 'estatura_peso', 'x', 'y', 'z'])"
      ]
     },
     "execution_count": 11,
     "metadata": {},
     "output_type": "execute_result"
    }
   ],
   "source": [
    "persona.keys()"
   ]
  },
  {
   "cell_type": "code",
   "execution_count": 12,
   "metadata": {},
   "outputs": [
    {
     "data": {
      "text/plain": [
       "dict_values(['Pepe', 17, [9, 8, 9, 10, 5], (1.8, 90), 123, 'Hola', 2.5])"
      ]
     },
     "execution_count": 12,
     "metadata": {},
     "output_type": "execute_result"
    }
   ],
   "source": [
    "persona.values()"
   ]
  },
  {
   "cell_type": "code",
   "execution_count": 19,
   "metadata": {},
   "outputs": [
    {
     "data": {
      "text/plain": [
       "dict_items([('nombre', 'Pepe'), ('edad', 17), ('calificaciones', [9, 8, 9, 10, 5]), ('estatura_peso', (1.8, 90)), ('x', 123), ('y', 'Hola'), ('z', 2.5)])"
      ]
     },
     "execution_count": 19,
     "metadata": {},
     "output_type": "execute_result"
    }
   ],
   "source": [
    "persona.items()"
   ]
  },
  {
   "cell_type": "code",
   "execution_count": 20,
   "metadata": {},
   "outputs": [
    {
     "name": "stdout",
     "output_type": "stream",
     "text": [
      "Clave: nombre Valor: Pepe\n",
      "Clave: edad Valor: 17\n",
      "Clave: calificaciones Valor: [9, 8, 9, 10, 5]\n",
      "Clave: estatura_peso Valor: (1.8, 90)\n",
      "Clave: x Valor: 123\n",
      "Clave: y Valor: Hola\n",
      "Clave: z Valor: 2.5\n"
     ]
    }
   ],
   "source": [
    "for key, value in persona.items():\n",
    "    print(\"Clave: {} Valor: {}\".format(key, value))"
   ]
  },
  {
   "cell_type": "code",
   "execution_count": 22,
   "metadata": {},
   "outputs": [],
   "source": [
    "del persona[\"z\"]"
   ]
  },
  {
   "cell_type": "code",
   "execution_count": 23,
   "metadata": {},
   "outputs": [
    {
     "data": {
      "text/plain": [
       "{'nombre': 'Pepe',\n",
       " 'edad': 17,\n",
       " 'calificaciones': [9, 8, 9, 10, 5],\n",
       " 'estatura_peso': (1.8, 90),\n",
       " 'x': 123,\n",
       " 'y': 'Hola'}"
      ]
     },
     "execution_count": 23,
     "metadata": {},
     "output_type": "execute_result"
    }
   ],
   "source": [
    "persona"
   ]
  },
  {
   "cell_type": "markdown",
   "metadata": {},
   "source": [
    "# Ejemplo"
   ]
  },
  {
   "cell_type": "code",
   "execution_count": 24,
   "metadata": {},
   "outputs": [
    {
     "data": {
      "text/plain": [
       "{'nombre': 'Beto',\n",
       " 'edad': 78,\n",
       " 'calificaciones': array([7, 5, 2, 9, 1]),\n",
       " 'estatura': 1.6834248262667146,\n",
       " 'peso': 47.35470152600763}"
      ]
     },
     "execution_count": 24,
     "metadata": {},
     "output_type": "execute_result"
    }
   ],
   "source": [
    "import random\n",
    "import numpy as np\n",
    "\n",
    "persona = {}\n",
    "\n",
    "persona[\"nombre\"] = random.choice([\"Ana\", \"Beto\", \"Carla\", \"Daniel\"])\n",
    "\n",
    "persona[\"edad\"] = random.randint(0, 101)\n",
    "\n",
    "persona[\"calificaciones\"] = np.random.randint(0, 11, 5)\n",
    "\n",
    "persona[\"estatura\"] = random.uniform(1.2, 2.11)\n",
    "\n",
    "persona[\"peso\"] = random.uniform(5, 100)\n",
    "\n",
    "persona"
   ]
  },
  {
   "cell_type": "code",
   "execution_count": 25,
   "metadata": {},
   "outputs": [
    {
     "data": {
      "text/plain": [
       "{'nombre': 'Carla',\n",
       " 'edad': 23,\n",
       " 'calificaciones': array([9, 5, 9, 2, 2]),\n",
       " 'estatura': 1.7221564771568616,\n",
       " 'peso': 28.53522070258864}"
      ]
     },
     "execution_count": 25,
     "metadata": {},
     "output_type": "execute_result"
    }
   ],
   "source": [
    "import random\n",
    "import numpy as np\n",
    "\n",
    "def genera_persona():\n",
    "    persona = {}\n",
    "\n",
    "    persona[\"nombre\"] = random.choice([\"Ana\", \"Beto\", \"Carla\", \"Daniel\"])\n",
    "\n",
    "    persona[\"edad\"] = random.randint(0, 101)\n",
    "\n",
    "    persona[\"calificaciones\"] = np.random.randint(0, 11, 5)\n",
    "\n",
    "    persona[\"estatura\"] = random.uniform(1.2, 2.11)\n",
    "\n",
    "    persona[\"peso\"] = random.uniform(5, 100)\n",
    "\n",
    "    return persona\n",
    "\n",
    "genera_persona()"
   ]
  },
  {
   "cell_type": "code",
   "execution_count": 26,
   "metadata": {},
   "outputs": [
    {
     "data": {
      "text/plain": [
       "{'nombre': 'Beto',\n",
       " 'edad': 82,\n",
       " 'calificaciones': array([9, 3, 6, 2, 8]),\n",
       " 'estatura': 2.097119513513572,\n",
       " 'peso': 22.570799394325967}"
      ]
     },
     "execution_count": 26,
     "metadata": {},
     "output_type": "execute_result"
    }
   ],
   "source": [
    "genera_persona()"
   ]
  },
  {
   "cell_type": "code",
   "execution_count": 28,
   "metadata": {},
   "outputs": [
    {
     "data": {
      "text/plain": [
       "{'nombre': 'Ana',\n",
       " 'edad': 34,\n",
       " 'calificaciones': array([2, 1, 1, 4, 9]),\n",
       " 'estatura': 1.2254972158811883,\n",
       " 'peso': 61.56631640516224}"
      ]
     },
     "execution_count": 28,
     "metadata": {},
     "output_type": "execute_result"
    }
   ],
   "source": [
    "genera_persona()"
   ]
  },
  {
   "cell_type": "markdown",
   "metadata": {},
   "source": [
    "## Listas generadas\n",
    "\n",
    "Una lista generada es aquella lista que en su construcción tiene un ciclo `for` que establezca la secuencia de generación."
   ]
  },
  {
   "cell_type": "code",
   "execution_count": 30,
   "metadata": {},
   "outputs": [
    {
     "data": {
      "text/plain": [
       "[1, 2, 3, 4, 5, 6, 7, 8, 9]"
      ]
     },
     "execution_count": 30,
     "metadata": {},
     "output_type": "execute_result"
    }
   ],
   "source": [
    "a = [ i for i in range(1, 10) ]\n",
    "a"
   ]
  },
  {
   "cell_type": "code",
   "execution_count": 31,
   "metadata": {},
   "outputs": [
    {
     "data": {
      "text/plain": [
       "[1, 4, 9, 16, 25, 36, 49, 64, 81]"
      ]
     },
     "execution_count": 31,
     "metadata": {},
     "output_type": "execute_result"
    }
   ],
   "source": [
    "a = [ i ** 2 for i in range(1, 10) ]\n",
    "a"
   ]
  },
  {
   "cell_type": "code",
   "execution_count": 33,
   "metadata": {},
   "outputs": [
    {
     "data": {
      "text/plain": [
       "[{'nombre': 'Ana',\n",
       "  'edad': 20,\n",
       "  'calificaciones': array([10,  2,  8,  1,  6]),\n",
       "  'estatura': 1.2063139896179436,\n",
       "  'peso': 31.771622982926125},\n",
       " {'nombre': 'Ana',\n",
       "  'edad': 41,\n",
       "  'calificaciones': array([ 9,  2,  7,  0, 10]),\n",
       "  'estatura': 1.893769795590765,\n",
       "  'peso': 17.591610966582884},\n",
       " {'nombre': 'Ana',\n",
       "  'edad': 68,\n",
       "  'calificaciones': array([ 4,  2, 10,  3,  7]),\n",
       "  'estatura': 1.5717151548252697,\n",
       "  'peso': 40.61758199219096},\n",
       " {'nombre': 'Ana',\n",
       "  'edad': 94,\n",
       "  'calificaciones': array([6, 9, 5, 5, 6]),\n",
       "  'estatura': 1.9846714394132952,\n",
       "  'peso': 23.063658361466835},\n",
       " {'nombre': 'Beto',\n",
       "  'edad': 25,\n",
       "  'calificaciones': array([7, 5, 2, 2, 9]),\n",
       "  'estatura': 1.3237734078606849,\n",
       "  'peso': 35.0553400583527},\n",
       " {'nombre': 'Daniel',\n",
       "  'edad': 29,\n",
       "  'calificaciones': array([9, 2, 0, 9, 1]),\n",
       "  'estatura': 1.3898152227912097,\n",
       "  'peso': 13.538610226128162},\n",
       " {'nombre': 'Daniel',\n",
       "  'edad': 37,\n",
       "  'calificaciones': array([1, 0, 1, 0, 7]),\n",
       "  'estatura': 1.286122848536957,\n",
       "  'peso': 17.384584193431344},\n",
       " {'nombre': 'Carla',\n",
       "  'edad': 17,\n",
       "  'calificaciones': array([10,  0,  2,  1,  1]),\n",
       "  'estatura': 1.895103734619811,\n",
       "  'peso': 84.98724196614953},\n",
       " {'nombre': 'Carla',\n",
       "  'edad': 19,\n",
       "  'calificaciones': array([3, 3, 6, 5, 0]),\n",
       "  'estatura': 1.6531756036564866,\n",
       "  'peso': 24.490721983572723}]"
      ]
     },
     "execution_count": 33,
     "metadata": {},
     "output_type": "execute_result"
    }
   ],
   "source": [
    "a = [ genera_persona() for i in range(1, 10) ]\n",
    "a"
   ]
  },
  {
   "cell_type": "code",
   "execution_count": 34,
   "metadata": {},
   "outputs": [
    {
     "data": {
      "text/plain": [
       "[(-1.0, 1.0),\n",
       " (-0.8947368421052632, 0.8005540166204986),\n",
       " (-0.7894736842105263, 0.6232686980609419),\n",
       " (-0.6842105263157895, 0.46814404432132967),\n",
       " (-0.5789473684210527, 0.33518005540166207),\n",
       " (-0.4736842105263158, 0.22437673130193908),\n",
       " (-0.368421052631579, 0.1357340720221607),\n",
       " (-0.26315789473684215, 0.06925207756232689),\n",
       " (-0.1578947368421053, 0.02493074792243769),\n",
       " (-0.052631578947368474, 0.0027700831024930804),\n",
       " (0.05263157894736836, 0.0027700831024930687),\n",
       " (0.1578947368421053, 0.02493074792243769),\n",
       " (0.26315789473684204, 0.06925207756232683),\n",
       " (0.36842105263157876, 0.13573407202216053),\n",
       " (0.4736842105263157, 0.22437673130193897),\n",
       " (0.5789473684210527, 0.33518005540166207),\n",
       " (0.6842105263157894, 0.4681440443213295),\n",
       " (0.7894736842105261, 0.6232686980609415),\n",
       " (0.894736842105263, 0.8005540166204984),\n",
       " (1.0, 1.0)]"
      ]
     },
     "execution_count": 34,
     "metadata": {},
     "output_type": "execute_result"
    }
   ],
   "source": [
    "puntos = [ (x, x ** 2) for x in np.linspace(-1, 1, 20) ]\n",
    "\n",
    "puntos"
   ]
  },
  {
   "cell_type": "markdown",
   "metadata": {},
   "source": [
    "## Listas de Tuplas: Empaquetar y desempaquetar listas"
   ]
  },
  {
   "cell_type": "code",
   "execution_count": 36,
   "metadata": {},
   "outputs": [
    {
     "data": {
      "text/plain": [
       "[(1, 7), (2, 8), (3, 9)]"
      ]
     },
     "execution_count": 36,
     "metadata": {},
     "output_type": "execute_result"
    }
   ],
   "source": [
    "A = [1, 2, 3]\n",
    "B = [7, 8, 9]\n",
    "\n",
    "C = zip(A, B)\n",
    "\n",
    "list(C)"
   ]
  },
  {
   "cell_type": "code",
   "execution_count": 38,
   "metadata": {},
   "outputs": [
    {
     "data": {
      "text/plain": [
       "[(2, 1),\n",
       " (3, 1),\n",
       " (1, 2),\n",
       " (1, 3),\n",
       " (1, 2),\n",
       " (1, 3),\n",
       " (3, 3),\n",
       " (1, 1),\n",
       " (2, 1),\n",
       " (3, 2)]"
      ]
     },
     "execution_count": 38,
     "metadata": {},
     "output_type": "execute_result"
    }
   ],
   "source": [
    "x = np.random.randint(1, 4, 10)\n",
    "y = np.random.randint(1, 4, 10)\n",
    "\n",
    "z = zip(x, y)\n",
    "\n",
    "list(z)"
   ]
  },
  {
   "cell_type": "code",
   "execution_count": 39,
   "metadata": {},
   "outputs": [
    {
     "name": "stdout",
     "output_type": "stream",
     "text": [
      "(-1.0, -0.8947368421052632, -0.7894736842105263, -0.6842105263157895, -0.5789473684210527, -0.4736842105263158, -0.368421052631579, -0.26315789473684215, -0.1578947368421053, -0.052631578947368474, 0.05263157894736836, 0.1578947368421053, 0.26315789473684204, 0.36842105263157876, 0.4736842105263157, 0.5789473684210527, 0.6842105263157894, 0.7894736842105261, 0.894736842105263, 1.0)\n",
      "(1.0, 0.8005540166204986, 0.6232686980609419, 0.46814404432132967, 0.33518005540166207, 0.22437673130193908, 0.1357340720221607, 0.06925207756232689, 0.02493074792243769, 0.0027700831024930804, 0.0027700831024930687, 0.02493074792243769, 0.06925207756232683, 0.13573407202216053, 0.22437673130193897, 0.33518005540166207, 0.4681440443213295, 0.6232686980609415, 0.8005540166204984, 1.0)\n"
     ]
    }
   ],
   "source": [
    "x, y = zip(*puntos)\n",
    "\n",
    "print(x)\n",
    "print(y)"
   ]
  },
  {
   "cell_type": "code",
   "execution_count": 42,
   "metadata": {},
   "outputs": [
    {
     "data": {
      "text/plain": [
       "array([-10.,  -9.,  -8.,  -7.,  -6.,  -5.,  -4.,  -3.,  -2.,  -1.,   0.,\n",
       "         1.,   2.,   3.,   4.,   5.,   6.,   7.,   8.,   9.,  10.])"
      ]
     },
     "execution_count": 42,
     "metadata": {},
     "output_type": "execute_result"
    }
   ],
   "source": [
    "x = np.linspace(-10, 10, 21)\n",
    "x"
   ]
  },
  {
   "cell_type": "code",
   "execution_count": 43,
   "metadata": {},
   "outputs": [
    {
     "data": {
      "text/plain": [
       "array([100.,  81.,  64.,  49.,  36.,  25.,  16.,   9.,   4.,   1.,   0.,\n",
       "         1.,   4.,   9.,  16.,  25.,  36.,  49.,  64.,  81., 100.])"
      ]
     },
     "execution_count": 43,
     "metadata": {},
     "output_type": "execute_result"
    }
   ],
   "source": [
    "y = x ** 2\n",
    "y"
   ]
  },
  {
   "cell_type": "code",
   "execution_count": 45,
   "metadata": {},
   "outputs": [
    {
     "data": {
      "image/png": "[encoded data removed]",
      "text/plain": [
       "<Figure size 432x288 with 1 Axes>"
      ]
     },
     "metadata": {
      "needs_background": "light"
     },
     "output_type": "display_data"
    }
   ],
   "source": [
    "import matplotlib.pyplot as plt\n",
    "\n",
    "plt.scatter(x, y)\n",
    "\n",
    "plt.show()"
   ]
  },
  {
   "cell_type": "code",
   "execution_count": 46,
   "metadata": {},
   "outputs": [
    {
     "name": "stdout",
     "output_type": "stream",
     "text": [
      "[-10, -9, -8, -7, -6, -5, -4, -3, -2, -1, 0, 1, 2, 3, 4, 5, 6, 7, 8, 9, 10]\n",
      "[100, 81, 64, 49, 36, 25, 16, 9, 4, 1, 0, 1, 4, 9, 16, 25, 36, 49, 64, 81, 100]\n"
     ]
    }
   ],
   "source": [
    "x = [i for i in range(-10, 11)]\n",
    "y = [xi ** 2 for xi in x]\n",
    "\n",
    "print(x)\n",
    "print(y)"
   ]
  },
  {
   "cell_type": "code",
   "execution_count": 47,
   "metadata": {},
   "outputs": [
    {
     "data": {
      "image/png": "[encoded data removed]",
      "text/plain": [
       "<Figure size 432x288 with 1 Axes>"
      ]
     },
     "metadata": {
      "needs_background": "light"
     },
     "output_type": "display_data"
    }
   ],
   "source": [
    "import matplotlib.pyplot as plt\n",
    "\n",
    "plt.scatter(x, y)\n",
    "\n",
    "plt.show()"
   ]
  },
  {
   "cell_type": "code",
   "execution_count": null,
   "metadata": {},
   "outputs": [],
   "source": []
  }
 ],
 "metadata": {
  "kernelspec": {
   "display_name": "Python 3",
   "language": "python",
   "name": "python3"
  },
  "language_info": {
   "codemirror_mode": {
    "name": "ipython",
    "version": 3
   },
   "file_extension": ".py",
   "mimetype": "text/x-python",
   "name": "python",
   "nbconvert_exporter": "python",
   "pygments_lexer": "ipython3",
   "version": "3.7.3"
  }
 },
 "nbformat": 4,
 "nbformat_minor": 2
}
