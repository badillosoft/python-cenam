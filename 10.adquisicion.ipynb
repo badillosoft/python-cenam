{
 "cells": [
  {
   "cell_type": "code",
   "execution_count": 2,
   "metadata": {},
   "outputs": [
    {
     "name": "stdout",
     "output_type": "stream",
     "text": [
      "Requirement already satisfied: PyVISA==1.9.1 from file:///C:/Users/mbotello/Downloads/python-cenam-master/PyVISA-1.9.1-py3-none-any.whl in c:\\users\\mbotello\\appdata\\local\\continuum\\anaconda3\\lib\\site-packages (1.9.1)\n"
     ]
    }
   ],
   "source": [
    "! pip install PyVISA-1.9.1-py3-none-any.whl"
   ]
  },
  {
   "cell_type": "code",
   "execution_count": 4,
   "metadata": {},
   "outputs": [],
   "source": [
    "import visa"
   ]
  },
  {
   "cell_type": "code",
   "execution_count": 7,
   "metadata": {},
   "outputs": [
    {
     "data": {
      "text/plain": [
       "<ResourceManager(<VisaLibrary('C:\\\\Windows\\\\system32\\\\visa32.dll')>)>"
      ]
     },
     "execution_count": 7,
     "metadata": {},
     "output_type": "execute_result"
    }
   ],
   "source": [
    "rm = visa.ResourceManager()\n",
    "rm"
   ]
  },
  {
   "cell_type": "code",
   "execution_count": 9,
   "metadata": {},
   "outputs": [
    {
     "data": {
      "text/plain": [
       "('ASRL3::INSTR', 'GPIB0::5::INSTR')"
      ]
     },
     "execution_count": 9,
     "metadata": {},
     "output_type": "execute_result"
    }
   ],
   "source": [
    "rm.list_resources()"
   ]
  },
  {
   "cell_type": "code",
   "execution_count": 10,
   "metadata": {},
   "outputs": [
    {
     "data": {
      "text/plain": [
       "('ASRL3::INSTR', 'GPIB0::5::INSTR')"
      ]
     },
     "execution_count": 10,
     "metadata": {},
     "output_type": "execute_result"
    }
   ],
   "source": [
    "resources = rm.list_resources()\n",
    "resources"
   ]
  },
  {
   "cell_type": "code",
   "execution_count": 12,
   "metadata": {},
   "outputs": [
    {
     "data": {
      "text/plain": [
       "<'GPIBInstrument'('GPIB0::5::INSTR')>"
      ]
     },
     "execution_count": 12,
     "metadata": {},
     "output_type": "execute_result"
    }
   ],
   "source": [
    "inst = rm.open_resource(resources[1])\n",
    "inst"
   ]
  },
  {
   "cell_type": "code",
   "execution_count": 13,
   "metadata": {},
   "outputs": [
    {
     "data": {
      "text/plain": [
       "(4, <StatusCode.success: 0>)"
      ]
     },
     "execution_count": 13,
     "metadata": {},
     "output_type": "execute_result"
    }
   ],
   "source": [
    "inst.write(\"F2\")"
   ]
  },
  {
   "cell_type": "code",
   "execution_count": 14,
   "metadata": {},
   "outputs": [
    {
     "data": {
      "text/plain": [
       "(4, <StatusCode.success: 0>)"
      ]
     },
     "execution_count": 14,
     "metadata": {},
     "output_type": "execute_result"
    }
   ],
   "source": [
    "inst.write(\"F1\")"
   ]
  },
  {
   "cell_type": "code",
   "execution_count": 22,
   "metadata": {},
   "outputs": [
    {
     "data": {
      "text/plain": [
       "'+000.536E-3\\r\\n'"
      ]
     },
     "execution_count": 22,
     "metadata": {},
     "output_type": "execute_result"
    }
   ],
   "source": [
    "inst.read()"
   ]
  },
  {
   "cell_type": "code",
   "execution_count": 27,
   "metadata": {},
   "outputs": [
    {
     "data": {
      "text/plain": [
       "[0.000478,\n",
       " 0.000511,\n",
       " 0.000509,\n",
       " 0.000525,\n",
       " 0.000535,\n",
       " 0.000539,\n",
       " 0.000549,\n",
       " 0.000551,\n",
       " 0.000531,\n",
       " 0.000524]"
      ]
     },
     "execution_count": 27,
     "metadata": {},
     "output_type": "execute_result"
    }
   ],
   "source": [
    "y = []\n",
    "\n",
    "for i in range(10):\n",
    "    yi = float(inst.read())\n",
    "    y.append(yi)\n",
    "    \n",
    "y"
   ]
  },
  {
   "cell_type": "code",
   "execution_count": 60,
   "metadata": {},
   "outputs": [],
   "source": [
    "inst.close()"
   ]
  },
  {
   "cell_type": "code",
   "execution_count": 39,
   "metadata": {},
   "outputs": [
    {
     "data": {
      "image/png": "[encoded data removed]",
      "text/plain": [
       "<Figure size 432x288 with 1 Axes>"
      ]
     },
     "metadata": {
      "needs_background": "light"
     },
     "output_type": "display_data"
    }
   ],
   "source": [
    "import matplotlib.pyplot as plt\n",
    "\n",
    "plt.plot(y)\n",
    "\n",
    "plt.show()"
   ]
  },
  {
   "cell_type": "code",
   "execution_count": 50,
   "metadata": {},
   "outputs": [
    {
     "data": {
      "text/plain": [
       "2.9062329977262387"
      ]
     },
     "execution_count": 50,
     "metadata": {},
     "output_type": "execute_result"
    }
   ],
   "source": [
    "import numpy as np\n",
    "\n",
    "def error_sin(A, w, p, l, x, y):\n",
    "    xa = np.array(x)\n",
    "    ya = np.array(y)\n",
    "    yp = A * np.sin(w * xa + p) + l\n",
    "    e = (yp - y) ** 2\n",
    "    return np.linalg.norm(e)\n",
    "\n",
    "t = np.arange(len(y))\n",
    "yt = np.array(y) * 1000\n",
    "\n",
    "error_sin(1, 1, 0, 0, t, yt)"
   ]
  },
  {
   "cell_type": "code",
   "execution_count": 52,
   "metadata": {},
   "outputs": [
    {
     "data": {
      "text/plain": [
       "3.3416465987788375"
      ]
     },
     "execution_count": 52,
     "metadata": {},
     "output_type": "execute_result"
    }
   ],
   "source": [
    "error_sin(1, 2, 1.6, 0, t, yt)"
   ]
  },
  {
   "cell_type": "code",
   "execution_count": 58,
   "metadata": {},
   "outputs": [
    {
     "name": "stdout",
     "output_type": "stream",
     "text": [
      "2.9062329977262387\n",
      "0.0004915501809910802\n",
      "[ 0.26661354 -0.10578094  2.15728103  0.27608353]\n"
     ]
    }
   ],
   "source": [
    "w_best = np.array([1, 1, 0, 0])\n",
    "\n",
    "r = 1\n",
    "\n",
    "print(error_sin(w_best[0], w_best[1], w_best[2], w_best[3], t, yt))\n",
    "\n",
    "for i in range(100000):\n",
    "    w_test = w_best + np.random.uniform(-1, 1, 4) * r\n",
    "    e_best = error_sin(w_best[0], w_best[1], w_best[2], w_best[3], t, yt)\n",
    "    e_test = error_sin(w_test[0], w_test[1], w_test[2], w_test[3], t, yt)\n",
    "    if e_test < e_best:\n",
    "        w_best = w_test\n",
    "        \n",
    "print(error_sin(w_best[0], w_best[1], w_best[2], w_best[3], t, yt))\n",
    "\n",
    "print(w_best)"
   ]
  },
  {
   "cell_type": "code",
   "execution_count": 59,
   "metadata": {},
   "outputs": [
    {
     "data": {
      "image/png": "[encoded data removed]",
      "text/plain": [
       "<Figure size 432x288 with 1 Axes>"
      ]
     },
     "metadata": {
      "needs_background": "light"
     },
     "output_type": "display_data"
    }
   ],
   "source": [
    "import matplotlib.pyplot as plt\n",
    "\n",
    "yp = w_best[0] * np.sin(w_best[1] * t + w_best[2]) + w_best[3]\n",
    "plt.plot(t, yt, color=\"blue\")\n",
    "plt.plot(t, yp, color=\"red\")\n",
    "\n",
    "plt.show()"
   ]
  },
  {
   "cell_type": "code",
   "execution_count": null,
   "metadata": {},
   "outputs": [],
   "source": []
  }
 ],
 "metadata": {
  "kernelspec": {
   "display_name": "Python 3",
   "language": "python",
   "name": "python3"
  },
  "language_info": {
   "codemirror_mode": {
    "name": "ipython",
    "version": 3
   },
   "file_extension": ".py",
   "mimetype": "text/x-python",
   "name": "python",
   "nbconvert_exporter": "python",
   "pygments_lexer": "ipython3",
   "version": "3.7.3"
  }
 },
 "nbformat": 4,
 "nbformat_minor": 2
}
