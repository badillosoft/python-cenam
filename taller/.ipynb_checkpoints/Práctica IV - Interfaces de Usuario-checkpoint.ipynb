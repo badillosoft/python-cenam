{
 "cells": [
  {
   "cell_type": "markdown",
   "metadata": {},
   "source": [
    "# Práctica IV - Interfaces de Usuario\n",
    "\n",
    "Alan Badillo Salas (badillo.soft@hotmail.com)"
   ]
  },
  {
   "cell_type": "code",
   "execution_count": 7,
   "metadata": {},
   "outputs": [
    {
     "name": "stdout",
     "output_type": "stream",
     "text": [
      " * Serving Flask app \"__main__\" (lazy loading)\n",
      " * Environment: production\n",
      "   WARNING: Do not use the development server in a production environment.\n",
      "   Use a production WSGI server instead.\n",
      " * Debug mode: off\n"
     ]
    },
    {
     "name": "stderr",
     "output_type": "stream",
     "text": [
      " * Running on http://127.0.0.1:5002/ (Press CTRL+C to quit)\n",
      "127.0.0.1 - - [01/Oct/2019 16:11:49] \"GET / HTTP/1.1\" 200 -\n",
      "127.0.0.1 - - [01/Oct/2019 16:11:49] \"GET /plot HTTP/1.1\" 404 -\n",
      "127.0.0.1 - - [01/Oct/2019 16:12:11] \"GET /plot HTTP/1.1\" 404 -\n"
     ]
    }
   ],
   "source": [
    "from flask import Flask, render_template\n",
    "\n",
    "app = Flask(__name__, template_folder=\"taller/templates\")\n",
    "\n",
    "@app.route(\"/\")\n",
    "def home():\n",
    "    # templates/home.html\n",
    "    return render_template(\"home.html\")\n",
    "\n",
    "app.run(port=5002)"
   ]
  },
  {
   "cell_type": "code",
   "execution_count": 10,
   "metadata": {},
   "outputs": [
    {
     "name": "stdout",
     "output_type": "stream",
     "text": [
      " * Serving Flask app \"__main__\" (lazy loading)\n",
      " * Environment: production\n",
      "   WARNING: Do not use the development server in a production environment.\n",
      "   Use a production WSGI server instead.\n",
      " * Debug mode: off\n"
     ]
    },
    {
     "name": "stderr",
     "output_type": "stream",
     "text": [
      " * Running on http://127.0.0.1:5002/ (Press CTRL+C to quit)\n",
      "127.0.0.1 - - [01/Oct/2019 16:23:50] \"GET / HTTP/1.1\" 200 -\n",
      "127.0.0.1 - - [01/Oct/2019 16:23:50] \"GET /plot HTTP/1.1\" 200 -\n",
      "127.0.0.1 - - [01/Oct/2019 16:23:56] \"GET / HTTP/1.1\" 200 -\n",
      "127.0.0.1 - - [01/Oct/2019 16:23:56] \"GET /plot HTTP/1.1\" 200 -\n"
     ]
    }
   ],
   "source": [
    "from flask import Flask, Response, render_template\n",
    "from io import BytesIO\n",
    "from matplotlib.backends.backend_agg import FigureCanvasAgg as FigureCanvas\n",
    "from matplotlib.figure import Figure\n",
    "\n",
    "app = Flask(__name__, template_folder=\"taller/templates\")\n",
    "app.config['TEMPLATES_AUTO_RELOAD'] = True\n",
    "\n",
    "@app.route('/plot')\n",
    "def plot():\n",
    "    fig = Figure()\n",
    "    axis = fig.add_subplot(1, 1, 1)\n",
    "    \n",
    "    # Creamos la gráfica\n",
    "    axis.bar([\"A\", \"B\", \"C\"], [34, 50, 28])\n",
    "    \n",
    "    output = BytesIO()\n",
    "    FigureCanvas(fig).print_png(output)\n",
    "    return Response(output.getvalue(), mimetype='image/png')\n",
    "\n",
    "@app.route(\"/\")\n",
    "def home():\n",
    "    # templates/home.html\n",
    "    return render_template(\"home.html\")\n",
    "\n",
    "app.run(port=5002)"
   ]
  },
  {
   "cell_type": "code",
   "execution_count": null,
   "metadata": {},
   "outputs": [
    {
     "name": "stdout",
     "output_type": "stream",
     "text": [
      " * Serving Flask app \"__main__\" (lazy loading)\n",
      " * Environment: production\n",
      "   WARNING: Do not use the development server in a production environment.\n",
      "   Use a production WSGI server instead.\n",
      " * Debug mode: off\n"
     ]
    },
    {
     "name": "stderr",
     "output_type": "stream",
     "text": [
      " * Running on http://127.0.0.1:5002/ (Press CTRL+C to quit)\n",
      "127.0.0.1 - - [01/Oct/2019 16:31:28] \"GET / HTTP/1.1\" 200 -\n",
      "127.0.0.1 - - [01/Oct/2019 16:31:28] \"GET /plot HTTP/1.1\" 200 -\n",
      "127.0.0.1 - - [01/Oct/2019 16:32:04] \"GET / HTTP/1.1\" 200 -\n",
      "127.0.0.1 - - [01/Oct/2019 16:32:04] \"GET /plot HTTP/1.1\" 200 -\n",
      "127.0.0.1 - - [01/Oct/2019 16:32:10] \"GET / HTTP/1.1\" 200 -\n",
      "127.0.0.1 - - [01/Oct/2019 16:32:10] \"GET /plot HTTP/1.1\" 200 -\n",
      "127.0.0.1 - - [01/Oct/2019 16:32:10] \"GET / HTTP/1.1\" 200 -\n",
      "127.0.0.1 - - [01/Oct/2019 16:32:10] \"GET /plot HTTP/1.1\" 200 -\n",
      "127.0.0.1 - - [01/Oct/2019 16:32:10] \"GET / HTTP/1.1\" 200 -\n",
      "127.0.0.1 - - [01/Oct/2019 16:32:11] \"GET /plot HTTP/1.1\" 200 -\n",
      "127.0.0.1 - - [01/Oct/2019 16:32:22] \"GET / HTTP/1.1\" 200 -\n",
      "127.0.0.1 - - [01/Oct/2019 16:32:22] \"GET /plot HTTP/1.1\" 200 -\n",
      "127.0.0.1 - - [01/Oct/2019 16:32:22] \"GET / HTTP/1.1\" 200 -\n",
      "127.0.0.1 - - [01/Oct/2019 16:32:23] \"GET /plot HTTP/1.1\" 200 -\n",
      "127.0.0.1 - - [01/Oct/2019 16:32:23] \"GET / HTTP/1.1\" 200 -\n",
      "127.0.0.1 - - [01/Oct/2019 16:32:23] \"GET /plot HTTP/1.1\" 200 -\n",
      "127.0.0.1 - - [01/Oct/2019 16:32:35] \"GET / HTTP/1.1\" 200 -\n",
      "127.0.0.1 - - [01/Oct/2019 16:32:35] \"GET /plot HTTP/1.1\" 200 -\n",
      "127.0.0.1 - - [01/Oct/2019 16:32:35] \"GET / HTTP/1.1\" 200 -\n",
      "127.0.0.1 - - [01/Oct/2019 16:32:35] \"GET /plot HTTP/1.1\" 200 -\n",
      "127.0.0.1 - - [01/Oct/2019 16:32:35] \"GET / HTTP/1.1\" 200 -\n",
      "127.0.0.1 - - [01/Oct/2019 16:32:35] \"GET /plot HTTP/1.1\" 200 -\n",
      "127.0.0.1 - - [01/Oct/2019 16:32:35] \"GET / HTTP/1.1\" 200 -\n",
      "127.0.0.1 - - [01/Oct/2019 16:32:35] \"GET /plot HTTP/1.1\" 200 -\n",
      "127.0.0.1 - - [01/Oct/2019 16:32:47] \"GET / HTTP/1.1\" 200 -\n",
      "127.0.0.1 - - [01/Oct/2019 16:32:47] \"GET /plot HTTP/1.1\" 200 -\n",
      "127.0.0.1 - - [01/Oct/2019 16:33:21] \"GET / HTTP/1.1\" 200 -\n",
      "127.0.0.1 - - [01/Oct/2019 16:33:21] \"GET /plot HTTP/1.1\" 200 -\n",
      "127.0.0.1 - - [01/Oct/2019 16:37:26] \"GET / HTTP/1.1\" 200 -\n",
      "127.0.0.1 - - [01/Oct/2019 16:37:26] \"GET /plot HTTP/1.1\" 200 -\n",
      "127.0.0.1 - - [01/Oct/2019 16:37:53] \"GET / HTTP/1.1\" 200 -\n",
      "127.0.0.1 - - [01/Oct/2019 16:37:53] \"GET /plot HTTP/1.1\" 200 -\n",
      "127.0.0.1 - - [01/Oct/2019 16:39:46] \"GET / HTTP/1.1\" 200 -\n",
      "127.0.0.1 - - [01/Oct/2019 16:39:46] \"GET /plot HTTP/1.1\" 200 -\n",
      "127.0.0.1 - - [01/Oct/2019 16:40:37] \"GET / HTTP/1.1\" 200 -\n",
      "127.0.0.1 - - [01/Oct/2019 16:40:37] \"GET /plot HTTP/1.1\" 200 -\n",
      "127.0.0.1 - - [01/Oct/2019 16:41:30] \"GET / HTTP/1.1\" 200 -\n",
      "127.0.0.1 - - [01/Oct/2019 16:41:30] \"GET /plot HTTP/1.1\" 200 -\n",
      "127.0.0.1 - - [01/Oct/2019 16:41:47] \"GET / HTTP/1.1\" 200 -\n",
      "127.0.0.1 - - [01/Oct/2019 16:41:48] \"GET /plot HTTP/1.1\" 200 -\n"
     ]
    }
   ],
   "source": [
    "from flask import Flask, Response, render_template\n",
    "from io import BytesIO\n",
    "from matplotlib.backends.backend_agg import FigureCanvasAgg as FigureCanvas\n",
    "from matplotlib.figure import Figure\n",
    "\n",
    "app = Flask(__name__, template_folder=\"taller/templates\")\n",
    "app.config['TEMPLATES_AUTO_RELOAD'] = True\n",
    "\n",
    "@app.route('/plot')\n",
    "def plot():\n",
    "    fig = Figure()\n",
    "    axis = fig.add_subplot(1, 1, 1)\n",
    "    \n",
    "    # Creamos la gráfica\n",
    "    axis.bar([\"A\", \"B\", \"C\"], [34, 50, 28])\n",
    "    \n",
    "    output = BytesIO()\n",
    "    FigureCanvas(fig).print_png(output)\n",
    "    return Response(output.getvalue(), mimetype='image/png')\n",
    "\n",
    "@app.route(\"/\")\n",
    "def home():\n",
    "    # templates/home.html\n",
    "    return render_template(\"app1.html\")\n",
    "\n",
    "app.run(port=5002)"
   ]
  },
  {
   "cell_type": "code",
   "execution_count": null,
   "metadata": {},
   "outputs": [],
   "source": []
  }
 ],
 "metadata": {
  "kernelspec": {
   "display_name": "Python 3",
   "language": "python",
   "name": "python3"
  },
  "language_info": {
   "codemirror_mode": {
    "name": "ipython",
    "version": 3
   },
   "file_extension": ".py",
   "mimetype": "text/x-python",
   "name": "python",
   "nbconvert_exporter": "python",
   "pygments_lexer": "ipython3",
   "version": "3.7.3"
  }
 },
 "nbformat": 4,
 "nbformat_minor": 2
}
