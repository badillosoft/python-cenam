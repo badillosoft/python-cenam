{
 "cells": [
  {
   "cell_type": "markdown",
   "metadata": {},
   "source": [
    "# Práctica IV - Interfaces de Usuario\n",
    "\n",
    "Alan Badillo Salas (badillo.soft@hotmail.com)"
   ]
  },
  {
   "cell_type": "code",
   "execution_count": 7,
   "metadata": {},
   "outputs": [
    {
     "name": "stdout",
     "output_type": "stream",
     "text": [
      " * Serving Flask app \"__main__\" (lazy loading)\n",
      " * Environment: production\n",
      "   WARNING: Do not use the development server in a production environment.\n",
      "   Use a production WSGI server instead.\n",
      " * Debug mode: off\n"
     ]
    },
    {
     "name": "stderr",
     "output_type": "stream",
     "text": [
      " * Running on http://127.0.0.1:5002/ (Press CTRL+C to quit)\n",
      "127.0.0.1 - - [01/Oct/2019 16:11:49] \"GET / HTTP/1.1\" 200 -\n",
      "127.0.0.1 - - [01/Oct/2019 16:11:49] \"GET /plot HTTP/1.1\" 404 -\n",
      "127.0.0.1 - - [01/Oct/2019 16:12:11] \"GET /plot HTTP/1.1\" 404 -\n"
     ]
    }
   ],
   "source": [
    "from flask import Flask, render_template\n",
    "\n",
    "app = Flask(__name__, template_folder=\"taller/templates\")\n",
    "\n",
    "@app.route(\"/\")\n",
    "def home():\n",
    "    # templates/home.html\n",
    "    return render_template(\"home.html\")\n",
    "\n",
    "app.run(port=5002)"
   ]
  },
  {
   "cell_type": "code",
   "execution_count": 10,
   "metadata": {},
   "outputs": [
    {
     "name": "stdout",
     "output_type": "stream",
     "text": [
      " * Serving Flask app \"__main__\" (lazy loading)\n",
      " * Environment: production\n",
      "   WARNING: Do not use the development server in a production environment.\n",
      "   Use a production WSGI server instead.\n",
      " * Debug mode: off\n"
     ]
    },
    {
     "name": "stderr",
     "output_type": "stream",
     "text": [
      " * Running on http://127.0.0.1:5002/ (Press CTRL+C to quit)\n",
      "127.0.0.1 - - [01/Oct/2019 16:23:50] \"GET / HTTP/1.1\" 200 -\n",
      "127.0.0.1 - - [01/Oct/2019 16:23:50] \"GET /plot HTTP/1.1\" 200 -\n",
      "127.0.0.1 - - [01/Oct/2019 16:23:56] \"GET / HTTP/1.1\" 200 -\n",
      "127.0.0.1 - - [01/Oct/2019 16:23:56] \"GET /plot HTTP/1.1\" 200 -\n"
     ]
    }
   ],
   "source": [
    "from flask import Flask, Response, render_template\n",
    "from io import BytesIO\n",
    "from matplotlib.backends.backend_agg import FigureCanvasAgg as FigureCanvas\n",
    "from matplotlib.figure import Figure\n",
    "\n",
    "app = Flask(__name__, template_folder=\"taller/templates\")\n",
    "app.config['TEMPLATES_AUTO_RELOAD'] = True\n",
    "\n",
    "@app.route('/plot')\n",
    "def plot():\n",
    "    fig = Figure()\n",
    "    axis = fig.add_subplot(1, 1, 1)\n",
    "    \n",
    "    # Creamos la gráfica\n",
    "    axis.bar([\"A\", \"B\", \"C\"], [34, 50, 28])\n",
    "    \n",
    "    output = BytesIO()\n",
    "    FigureCanvas(fig).print_png(output)\n",
    "    return Response(output.getvalue(), mimetype='image/png')\n",
    "\n",
    "@app.route(\"/\")\n",
    "def home():\n",
    "    # templates/home.html\n",
    "    return render_template(\"home.html\")\n",
    "\n",
    "app.run(port=5002)"
   ]
  },
  {
   "cell_type": "code",
   "execution_count": null,
   "metadata": {},
   "outputs": [
    {
     "name": "stdout",
     "output_type": "stream",
     "text": [
      " * Serving Flask app \"__main__\" (lazy loading)\n",
      " * Environment: production\n",
      "   WARNING: Do not use the development server in a production environment.\n",
      "   Use a production WSGI server instead.\n",
      " * Debug mode: off\n"
     ]
    },
    {
     "name": "stderr",
     "output_type": "stream",
     "text": [
      " * Running on http://127.0.0.1:5002/ (Press CTRL+C to quit)\n"
     ]
    }
   ],
   "source": [
    "from flask import Flask, Response, render_template, request\n",
    "from io import BytesIO\n",
    "from matplotlib.backends.backend_agg import FigureCanvasAgg as FigureCanvas\n",
    "from matplotlib.figure import Figure\n",
    "import numpy as np\n",
    "\n",
    "app = Flask(__name__, template_folder=\"taller/templates\")\n",
    "app.config['TEMPLATES_AUTO_RELOAD'] = True\n",
    "\n",
    "@app.route('/plot')\n",
    "def plot():\n",
    "    fig = Figure()\n",
    "    axis = fig.add_subplot(1, 1, 1)\n",
    "    \n",
    "    tn = float(request.args.get(\"t0\", \"0\")) / 1000\n",
    "    t0 = 2 * np.pi * tn - np.pi\n",
    "    \n",
    "    t = np.linspace(t0 - np.pi, t0 + np.pi, 100)\n",
    "    x = np.sin(t)\n",
    "    \n",
    "    axis.plot(t, x)\n",
    "    \n",
    "    output = BytesIO()\n",
    "    FigureCanvas(fig).print_png(output)\n",
    "    return Response(output.getvalue(), mimetype='image/png')\n",
    "\n",
    "@app.route(\"/\")\n",
    "def home():\n",
    "    # templates/home.html\n",
    "    return render_template(\"app1.html\")\n",
    "\n",
    "app.run(port=5002)"
   ]
  },
  {
   "cell_type": "code",
   "execution_count": null,
   "metadata": {},
   "outputs": [],
   "source": []
  }
 ],
 "metadata": {
  "kernelspec": {
   "display_name": "Python 3",
   "language": "python",
   "name": "python3"
  },
  "language_info": {
   "codemirror_mode": {
    "name": "ipython",
    "version": 3
   },
   "file_extension": ".py",
   "mimetype": "text/x-python",
   "name": "python",
   "nbconvert_exporter": "python",
   "pygments_lexer": "ipython3",
   "version": "3.7.3"
  }
 },
 "nbformat": 4,
 "nbformat_minor": 2
}
