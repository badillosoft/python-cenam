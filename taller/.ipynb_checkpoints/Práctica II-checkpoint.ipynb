{
 "cells": [
  {
   "cell_type": "markdown",
   "metadata": {},
   "source": [
    "# Práctica II - Servidor de Datos\n",
    "\n",
    "Alan Badillo Salas (badillo.soft@hotmail.com)"
   ]
  },
  {
   "cell_type": "markdown",
   "metadata": {},
   "source": [
    "## Montar un servidor en Flask"
   ]
  },
  {
   "cell_type": "code",
   "execution_count": 6,
   "metadata": {},
   "outputs": [
    {
     "name": "stdout",
     "output_type": "stream",
     "text": [
      " * Serving Flask app \"__main__\" (lazy loading)\n",
      " * Environment: production\n",
      "   WARNING: Do not use the development server in a production environment.\n",
      "   Use a production WSGI server instead.\n",
      " * Debug mode: off\n"
     ]
    },
    {
     "name": "stderr",
     "output_type": "stream",
     "text": [
      " * Running on http://127.0.0.1:5000/ (Press CTRL+C to quit)\n",
      "127.0.0.1 - - [01/Oct/2019 14:29:47] \"GET /data HTTP/1.1\" 200 -\n",
      "127.0.0.1 - - [01/Oct/2019 14:29:49] \"GET /data HTTP/1.1\" 200 -\n"
     ]
    }
   ],
   "source": [
    "from flask import Flask\n",
    "import pandas as pd\n",
    "\n",
    "# 1. Recuperar los datos del CSV\n",
    "data = pd.read_csv(\"adult.data\", header=None)\n",
    "\n",
    "# 2. Planear los datos importantes a devolver\n",
    "data2 = pd.DataFrame({\n",
    "    \"poblacion\": data[2],\n",
    "    \"grado_edu\": data[4],\n",
    "    \"genero\": data[8],\n",
    "    \"razgo\": data[9],\n",
    "    \"salario_est\": data[14]\n",
    "})\n",
    "\n",
    "app = Flask(__name__)\n",
    "\n",
    "@app.route(\"/data\")\n",
    "def getData():\n",
    "    # 3. Devolver los datos en formato JSON\n",
    "    return data2[0:10].T.to_json()\n",
    "\n",
    "app.run()"
   ]
  },
  {
   "cell_type": "code",
   "execution_count": null,
   "metadata": {},
   "outputs": [],
   "source": [
    "! pip install flask_cors"
   ]
  },
  {
   "cell_type": "code",
   "execution_count": 12,
   "metadata": {},
   "outputs": [
    {
     "name": "stdout",
     "output_type": "stream",
     "text": [
      " * Serving Flask app \"__main__\" (lazy loading)\n",
      " * Environment: production\n",
      "   WARNING: Do not use the development server in a production environment.\n",
      "   Use a production WSGI server instead.\n",
      " * Debug mode: off\n"
     ]
    },
    {
     "name": "stderr",
     "output_type": "stream",
     "text": [
      " * Running on http://127.0.0.1:5000/ (Press CTRL+C to quit)\n",
      "127.0.0.1 - - [01/Oct/2019 14:57:50] \"GET /data HTTP/1.1\" 200 -\n"
     ]
    }
   ],
   "source": [
    "from flask import Flask, request\n",
    "from flask_cors import CORS\n",
    "import pandas as pd\n",
    "\n",
    "# 1. Recuperar los datos del CSV\n",
    "data = pd.read_csv(\"adult.data\", header=None)\n",
    "\n",
    "# 2. Planear los datos importantes a devolver\n",
    "data2 = pd.DataFrame({\n",
    "    \"poblacion\": data[2],\n",
    "    \"grado_edu\": data[4],\n",
    "    \"genero\": data[8],\n",
    "    \"razgo\": data[9],\n",
    "    \"salario_est\": data[14]\n",
    "})\n",
    "\n",
    "app = Flask(__name__)\n",
    "CORS(app)\n",
    "\n",
    "@app.route(\"/data\")\n",
    "def getData():\n",
    "    page = int( request.args.get(\"page\", \"0\") )\n",
    "    size = int( request.args.get(\"pageSize\", \"10\") )\n",
    "    start_index = page * size\n",
    "    end_index = (page + 1) * size\n",
    "    # 3. Devolver los datos en formato JSON\n",
    "    return data2[start_index:end_index].T.to_json()\n",
    "\n",
    "app.run()"
   ]
  },
  {
   "cell_type": "code",
   "execution_count": 12,
   "metadata": {},
   "outputs": [
    {
     "name": "stdout",
     "output_type": "stream",
     "text": [
      " * Serving Flask app \"__main__\" (lazy loading)\n",
      " * Environment: production\n",
      "   WARNING: Do not use the development server in a production environment.\n",
      "   Use a production WSGI server instead.\n",
      " * Debug mode: off\n"
     ]
    },
    {
     "name": "stderr",
     "output_type": "stream",
     "text": [
      " * Running on http://127.0.0.1:5000/ (Press CTRL+C to quit)\n",
      "127.0.0.1 - - [01/Oct/2019 15:13:10] \"GET /data?q=grado_edu==4%20and%20genero==%22%20Male%22&pageSize=100 HTTP/1.1\" 200 -\n"
     ]
    }
   ],
   "source": [
    "from flask import Flask, request\n",
    "from flask_cors import CORS\n",
    "import pandas as pd\n",
    "\n",
    "# 1. Recuperar los datos del CSV\n",
    "data = pd.read_csv(\"adult.data\", header=None)\n",
    "\n",
    "# 2. Planear los datos importantes a devolver\n",
    "data2 = pd.DataFrame({\n",
    "    \"poblacion\": data[2],\n",
    "    \"grado_edu\": data[4],\n",
    "    \"genero\": data[9],\n",
    "    \"razgo\": data[8],\n",
    "    \"salario_est\": data[14]\n",
    "})\n",
    "\n",
    "app = Flask(__name__)\n",
    "CORS(app)\n",
    "\n",
    "@app.route(\"/data\")\n",
    "def getData():\n",
    "    page = int( request.args.get(\"page\", \"0\") )\n",
    "    size = int( request.args.get(\"pageSize\", \"10\") )\n",
    "    q = request.args.get(\"q\", \"index >= 0\")\n",
    "    start_index = page * size\n",
    "    end_index = (page + 1) * size\n",
    "    # 3. Devolver los datos en formato JSON\n",
    "    return data2.query(q)[start_index:end_index].to_json()\n",
    "\n",
    "app.run()"
   ]
  },
  {
   "cell_type": "code",
   "execution_count": null,
   "metadata": {},
   "outputs": [
    {
     "name": "stdout",
     "output_type": "stream",
     "text": [
      " * Serving Flask app \"__main__\" (lazy loading)\n",
      " * Environment: production\n",
      "   WARNING: Do not use the development server in a production environment.\n",
      "   Use a production WSGI server instead.\n",
      " * Debug mode: off\n"
     ]
    },
    {
     "name": "stderr",
     "output_type": "stream",
     "text": [
      " * Running on http://127.0.0.1:5000/ (Press CTRL+C to quit)\n",
      "127.0.0.1 - - [01/Oct/2019 15:21:26] \"GET /data?q=genero==%20Male&pageSize=-1 HTTP/1.1\" 404 -\n",
      "[2019-10-01 15:21:30,474] ERROR in app: Exception on /data.json [GET]\n",
      "Traceback (most recent call last):\n",
      "  File \"/Users/dragon/anaconda3/lib/python3.7/site-packages/pandas/core/computation/scope.py\", line 181, in resolve\n",
      "    return self.resolvers[key]\n",
      "  File \"/Users/dragon/anaconda3/lib/python3.7/collections/__init__.py\", line 914, in __getitem__\n",
      "    return self.__missing__(key)            # support subclasses that define __missing__\n",
      "  File \"/Users/dragon/anaconda3/lib/python3.7/collections/__init__.py\", line 906, in __missing__\n",
      "    raise KeyError(key)\n",
      "KeyError: 'Male'\n",
      "\n",
      "During handling of the above exception, another exception occurred:\n",
      "\n",
      "Traceback (most recent call last):\n",
      "  File \"/Users/dragon/anaconda3/lib/python3.7/site-packages/pandas/core/computation/scope.py\", line 192, in resolve\n",
      "    return self.temps[key]\n",
      "KeyError: 'Male'\n",
      "\n",
      "During handling of the above exception, another exception occurred:\n",
      "\n",
      "Traceback (most recent call last):\n",
      "  File \"/Users/dragon/anaconda3/lib/python3.7/site-packages/flask/app.py\", line 2292, in wsgi_app\n",
      "    response = self.full_dispatch_request()\n",
      "  File \"/Users/dragon/anaconda3/lib/python3.7/site-packages/flask/app.py\", line 1815, in full_dispatch_request\n",
      "    rv = self.handle_user_exception(e)\n",
      "  File \"/Users/dragon/anaconda3/lib/python3.7/site-packages/flask_cors/extension.py\", line 161, in wrapped_function\n",
      "    return cors_after_request(app.make_response(f(*args, **kwargs)))\n",
      "  File \"/Users/dragon/anaconda3/lib/python3.7/site-packages/flask/app.py\", line 1718, in handle_user_exception\n",
      "    reraise(exc_type, exc_value, tb)\n",
      "  File \"/Users/dragon/anaconda3/lib/python3.7/site-packages/flask/_compat.py\", line 35, in reraise\n",
      "    raise value\n",
      "  File \"/Users/dragon/anaconda3/lib/python3.7/site-packages/flask/app.py\", line 1813, in full_dispatch_request\n",
      "    rv = self.dispatch_request()\n",
      "  File \"/Users/dragon/anaconda3/lib/python3.7/site-packages/flask/app.py\", line 1799, in dispatch_request\n",
      "    return self.view_functions[rule.endpoint](**req.view_args)\n",
      "  File \"<ipython-input-19-26dab8606a46>\", line 28, in getDataJSON\n",
      "    return data2.query(q)[start_index:end_index].to_json()\n",
      "  File \"/Users/dragon/anaconda3/lib/python3.7/site-packages/pandas/core/frame.py\", line 3088, in query\n",
      "    res = self.eval(expr, **kwargs)\n",
      "  File \"/Users/dragon/anaconda3/lib/python3.7/site-packages/pandas/core/frame.py\", line 3203, in eval\n",
      "    return _eval(expr, inplace=inplace, **kwargs)\n",
      "  File \"/Users/dragon/anaconda3/lib/python3.7/site-packages/pandas/core/computation/eval.py\", line 294, in eval\n",
      "    truediv=truediv)\n",
      "  File \"/Users/dragon/anaconda3/lib/python3.7/site-packages/pandas/core/computation/expr.py\", line 749, in __init__\n",
      "    self.terms = self.parse()\n",
      "  File \"/Users/dragon/anaconda3/lib/python3.7/site-packages/pandas/core/computation/expr.py\", line 766, in parse\n",
      "    return self._visitor.visit(self.expr)\n",
      "  File \"/Users/dragon/anaconda3/lib/python3.7/site-packages/pandas/core/computation/expr.py\", line 331, in visit\n",
      "    return visitor(node, **kwargs)\n",
      "  File \"/Users/dragon/anaconda3/lib/python3.7/site-packages/pandas/core/computation/expr.py\", line 337, in visit_Module\n",
      "    return self.visit(expr, **kwargs)\n",
      "  File \"/Users/dragon/anaconda3/lib/python3.7/site-packages/pandas/core/computation/expr.py\", line 331, in visit\n",
      "    return visitor(node, **kwargs)\n",
      "  File \"/Users/dragon/anaconda3/lib/python3.7/site-packages/pandas/core/computation/expr.py\", line 340, in visit_Expr\n",
      "    return self.visit(node.value, **kwargs)\n",
      "  File \"/Users/dragon/anaconda3/lib/python3.7/site-packages/pandas/core/computation/expr.py\", line 331, in visit\n",
      "    return visitor(node, **kwargs)\n",
      "  File \"/Users/dragon/anaconda3/lib/python3.7/site-packages/pandas/core/computation/expr.py\", line 666, in visit_Compare\n",
      "    return self.visit(binop)\n",
      "  File \"/Users/dragon/anaconda3/lib/python3.7/site-packages/pandas/core/computation/expr.py\", line 331, in visit\n",
      "    return visitor(node, **kwargs)\n",
      "  File \"/Users/dragon/anaconda3/lib/python3.7/site-packages/pandas/core/computation/expr.py\", line 435, in visit_BinOp\n",
      "    op, op_class, left, right = self._maybe_transform_eq_ne(node)\n",
      "  File \"/Users/dragon/anaconda3/lib/python3.7/site-packages/pandas/core/computation/expr.py\", line 374, in _maybe_transform_eq_ne\n",
      "    right = self.visit(node.right, side='right')\n",
      "  File \"/Users/dragon/anaconda3/lib/python3.7/site-packages/pandas/core/computation/expr.py\", line 331, in visit\n",
      "    return visitor(node, **kwargs)\n",
      "  File \"/Users/dragon/anaconda3/lib/python3.7/site-packages/pandas/core/computation/expr.py\", line 449, in visit_Name\n",
      "    return self.term_type(node.id, self.env, **kwargs)\n",
      "  File \"/Users/dragon/anaconda3/lib/python3.7/site-packages/pandas/core/computation/ops.py\", line 64, in __init__\n",
      "    self._value = self._resolve_name()\n",
      "  File \"/Users/dragon/anaconda3/lib/python3.7/site-packages/pandas/core/computation/ops.py\", line 81, in _resolve_name\n",
      "    res = self.env.resolve(self.local_name, is_local=self.is_local)\n",
      "  File \"/Users/dragon/anaconda3/lib/python3.7/site-packages/pandas/core/computation/scope.py\", line 194, in resolve\n",
      "    raise compu.ops.UndefinedVariableError(key, is_local)\n",
      "pandas.core.computation.ops.UndefinedVariableError: name 'Male' is not defined\n",
      "127.0.0.1 - - [01/Oct/2019 15:21:30] \"GET /data.json?q=genero==%20Male&pageSize=-1 HTTP/1.1\" 500 -\n",
      "127.0.0.1 - - [01/Oct/2019 15:21:47] \"GET /data.json?q=genero==%22%20Male%22&pageSize=-1 HTTP/1.1\" 200 -\n",
      "127.0.0.1 - - [01/Oct/2019 15:21:52] \"GET /data.csv?q=genero==%22%20Male%22&pageSize=-1 HTTP/1.1\" 200 -\n"
     ]
    }
   ],
   "source": [
    "from flask import Flask, request, make_response\n",
    "from flask_cors import CORS\n",
    "import pandas as pd\n",
    "\n",
    "# 1. Recuperar los datos del CSV\n",
    "data = pd.read_csv(\"adult.data\", header=None)\n",
    "\n",
    "# 2. Planear los datos importantes a devolver\n",
    "data2 = pd.DataFrame({\n",
    "    \"poblacion\": data[2],\n",
    "    \"grado_edu\": data[4],\n",
    "    \"genero\": data[9],\n",
    "    \"razgo\": data[8],\n",
    "    \"salario_est\": data[14]\n",
    "})\n",
    "\n",
    "app = Flask(__name__)\n",
    "CORS(app)\n",
    "\n",
    "@app.route(\"/data.json\")\n",
    "def getDataJSON():\n",
    "    page = int( request.args.get(\"page\", \"0\") )\n",
    "    size = int( request.args.get(\"pageSize\", \"10\") )\n",
    "    q = request.args.get(\"q\", \"index >= 0\")\n",
    "    start_index = page * size\n",
    "    end_index = (page + 1) * size\n",
    "    # 3. Devolver los datos en formato JSON\n",
    "    return data2.query(q)[start_index:end_index].to_json()\n",
    "\n",
    "@app.route(\"/data.csv\")\n",
    "def getDataCSV():\n",
    "    page = int( request.args.get(\"page\", \"0\") )\n",
    "    size = int( request.args.get(\"pageSize\", \"10\") )\n",
    "    q = request.args.get(\"q\", \"index >= 0\")\n",
    "    start_index = page * size\n",
    "    end_index = (page + 1) * size\n",
    "    if size == -1:\n",
    "        start_index = 0\n",
    "        end_index = len(data2)\n",
    "    # 3. Devolver los datos en formato JSON\n",
    "    resp = make_response(data2.query(q)[start_index:end_index].to_csv())\n",
    "    resp.headers[\"Content-Disposition\"] = \"attachment; filename=datos.csv\"\n",
    "    resp.headers[\"Content-Type\"] = \"text/csv\"\n",
    "    return resp\n",
    "\n",
    "app.run()"
   ]
  },
  {
   "cell_type": "code",
   "execution_count": null,
   "metadata": {},
   "outputs": [],
   "source": []
  }
 ],
 "metadata": {
  "kernelspec": {
   "display_name": "Python 3",
   "language": "python",
   "name": "python3"
  },
  "language_info": {
   "codemirror_mode": {
    "name": "ipython",
    "version": 3
   },
   "file_extension": ".py",
   "mimetype": "text/x-python",
   "name": "python",
   "nbconvert_exporter": "python",
   "pygments_lexer": "ipython3",
   "version": "3.7.3"
  }
 },
 "nbformat": 4,
 "nbformat_minor": 2
}
