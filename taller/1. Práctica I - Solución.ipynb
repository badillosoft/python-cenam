{
 "cells": [
  {
   "cell_type": "markdown",
   "metadata": {},
   "source": [
    "# Práctica I - Graficación en tiempo real de datos leídos desde instrumentos\n",
    "\n",
    "Alan Badillo Salas (badillo.soft@hotmail.com)\n",
    "\n",
    "## Introducción\n",
    "\n",
    "En está práctica vamos a crear una gráfica en tiempo real de datos adquiridos desde un instrumento. \n",
    "\n",
    "### Fundamentos\n",
    "\n",
    "* Manejo de hilos\n",
    "* Manejo de buffers\n",
    "* Instrumento Simulado\n",
    "* Gráfica Dinámica\n",
    "\n",
    "### Práctica\n",
    "\n",
    "1. Crear un hilo que llene un buffer global con un instrumento simulado\n",
    "    1. Crear un variable de paro\n",
    "    2. Crear una función que cree el instrumento y haga lecturas hasta la variable de paro \n",
    "    3. Crear un hilo que llame a la función\n",
    "    4. Crear una función que imprima las lecturas del buffer con retardo\n",
    "    5. Crear un hilo que llame a la función de impresión del buffer\n",
    "2. Graficar el buffer\n",
    "    1. Crear una función que grafique el buffer con retardo\n",
    "    2. Crear un hilo que llame a la función de graficación del buffer\n",
    "    3. Cambiar la bandera de paro\n",
    "\n",
    "### Instrucciones\n",
    "\n",
    "Lee los fundamentos de la práctica y realiza los ejercicios señalados. Una vez realizados todos los ejercicios procede a completar los pasos de la práctica y resuelve los problemas de la práctica. Una vez completada la práctica envíala al correo de arriba indicando el título de la práctica y tu nombre completo."
   ]
  },
  {
   "cell_type": "markdown",
   "metadata": {},
   "source": [
    "## Fundamento I - Manejo de Hilos\n",
    "\n",
    "Los hilos son procesos que se ejecutan en diferentes contexto permitiendo generar código concurrente o a *\"paralelo\"*.\n",
    "\n",
    "Un hilo consiste en ejecutar una función en un flujo distinto al principal, permitiendo que el flujo principal no sea bloqueado.\n",
    "\n",
    "Ejemplo, imagina un programa que manda a llamar a dos funciones como en el siguiente código."
   ]
  },
  {
   "cell_type": "code",
   "execution_count": 4,
   "metadata": {},
   "outputs": [
    {
     "name": "stdout",
     "output_type": "stream",
     "text": [
      "voy a dormir 10 segundos\n",
      "listo ya pasaron 10 segundos\n",
      "¿Cuánto tiempo ha pasado?\n",
      "Han pasado 10.00 segundos\n"
     ]
    }
   ],
   "source": [
    "import time\n",
    "\n",
    "def dormir(segundos):\n",
    "    print(\"voy a dormir {} segundos\".format(segundos))\n",
    "    time.sleep(segundos)\n",
    "    print(\"listo ya pasaron {} segundos\".format(segundos))\n",
    "    \n",
    "def imprimir(mensaje):\n",
    "    print(mensaje)\n",
    "    \n",
    "inicio = time.time()\n",
    "    \n",
    "# Llamamos a la función dormir con parámetro 10\n",
    "# > duerme al flujo actual (el principal) por 10 segundos\n",
    "dormir(10)\n",
    "\n",
    "# Llamamos a la función imprimir\n",
    "# > se manda a llamar hasta que la función aterior termina\n",
    "imprimir(\"¿Cuánto tiempo ha pasado?\")\n",
    "\n",
    "fin = time.time()\n",
    "\n",
    "diferencia = (fin - inicio)\n",
    "\n",
    "imprimir(\"Han pasado {:.2f} segundos\".format(diferencia))"
   ]
  },
  {
   "cell_type": "markdown",
   "metadata": {},
   "source": [
    "El ejemplo anterior define dos funciones, una llamada dormir que bloquea el flujo corriente (el principal) durante el número de segundos específicados y otra función para imprimir un mensaje.\n",
    "\n",
    "En el flujo podemos ver claramente la llamada a la función `dormir(10)` y después la llamada a la función `imprimir(\"¿Cuánto timepo ha pasado?\")`.\n",
    "\n",
    "Vamos ahora a modificar el código anterior para mandar a llamar a la función dormir en un hilo y veamos la diferencia."
   ]
  },
  {
   "cell_type": "code",
   "execution_count": 5,
   "metadata": {},
   "outputs": [
    {
     "name": "stdout",
     "output_type": "stream",
     "text": [
      "voy a dormir 10 segundos\n",
      "¿Cuánto tiempo ha pasado?\n",
      "Han pasado 0.00 segundos\n",
      "listo ya pasaron 10 segundos\n",
      "Han pasado 10.00 segundos después de esperar al hilo `t`\n"
     ]
    }
   ],
   "source": [
    "import time\n",
    "from threading import Thread\n",
    "\n",
    "def dormir(segundos):\n",
    "    print(\"voy a dormir {} segundos\".format(segundos))\n",
    "    time.sleep(segundos)\n",
    "    print(\"listo ya pasaron {} segundos\".format(segundos))\n",
    "    \n",
    "def imprimir(mensaje):\n",
    "    print(mensaje)\n",
    "    \n",
    "inicio = time.time()\n",
    "    \n",
    "# Creamos un hilo que ejecute a la función dormir\n",
    "# se le envían los argumentos `(10,)`, esto es una 1-tupla no es (10) que quivale al 10\n",
    "t = Thread(target=dormir, args=(10,))\n",
    "\n",
    "# Iniciamos el hilo en un flujo independiente al principal\n",
    "# > Llama a la función dormir con los argumentos establecidos\n",
    "t.start()\n",
    "\n",
    "# Llamamos a la función imprimir\n",
    "# > se manda a llamar inmediatemente después de iniciar el hilo\n",
    "# > no debe esperar nada acerca de la función dormir ya que está en otro flujo\n",
    "imprimir(\"¿Cuánto tiempo ha pasado?\")\n",
    "\n",
    "fin = time.time()\n",
    "\n",
    "diferencia = (fin - inicio)\n",
    "\n",
    "imprimir(\"Han pasado {:.2f} segundos\".format(diferencia))\n",
    "\n",
    "# Detenemos el flujo principal hasta que acabe el hilo de ejecutarse\n",
    "t.join()\n",
    "\n",
    "# En este momento el flujo del hillo `t` ya terminó\n",
    "# Mostramos cuánto tiempo pasó\n",
    "\n",
    "fin = time.time()\n",
    "\n",
    "diferencia = (fin - inicio)\n",
    "\n",
    "imprimir(\"Han pasado {:.2f} segundos después de esperar al hilo `t`\".format(diferencia))"
   ]
  },
  {
   "cell_type": "markdown",
   "metadata": {},
   "source": [
    "Observa que `t.start()` inicial el hilo definido (ejecuta la función *target* con la tupla de argumentos definidos en *args*), este hilo es iniciado en un flujo independiente al principal, por lo que el hilo principal puede continuar con la ejecución de las siguientes expresiones.\n",
    "\n",
    "Observa que `t.join()` detiene el flujo corriente (el principal), hasta que el hilo `t` termina de ejecutarse, esto es muy útil para sincronizar dos hilos que duren distinto tiempo como se muestra en el siguiente ejemplo."
   ]
  },
  {
   "cell_type": "code",
   "execution_count": 7,
   "metadata": {},
   "outputs": [
    {
     "name": "stdout",
     "output_type": "stream",
     "text": [
      "voy a dormir 10 segundos\n",
      "voy a dormir 5 segundos\n",
      "listo ya pasaron 5 segundos\n",
      "listo ya pasaron 10 segundos\n",
      "Han pasado 10.01 segundos\n"
     ]
    }
   ],
   "source": [
    "import time\n",
    "from threading import Thread\n",
    "\n",
    "def dormir(segundos):\n",
    "    print(\"voy a dormir {} segundos\".format(segundos))\n",
    "    time.sleep(segundos)\n",
    "    print(\"listo ya pasaron {} segundos\".format(segundos))\n",
    "    \n",
    "inicio = time.time()\n",
    "    \n",
    "t1 = Thread(target=dormir, args=(10,)) # Este hilo dormirá 10 segundos\n",
    "\n",
    "t2 = Thread(target=dormir, args=(5,)) # Este hilo dormirá 5 segundos\n",
    "\n",
    "t1.start(), t2.start() # iniciamos los hilos al mismo tiempo\n",
    "\n",
    "t1.join(), t2.join() # esperamos los hilos al mismo tiempo\n",
    "\n",
    "# En este momento han pasado al rededor de 10 segundos no 15 segundos!\n",
    "\n",
    "fin = time.time()\n",
    "\n",
    "diferencia = (fin - inicio)\n",
    "\n",
    "imprimir(\"Han pasado {:.2f} segundos\".format(diferencia))"
   ]
  },
  {
   "cell_type": "markdown",
   "metadata": {},
   "source": [
    "## Ejercicio 1.1\n",
    "\n",
    "Crea tres hilos que llamen a la función `dormir` con valores enteros aleatorios entre 5 y 10 segundos como argumento. Muestra el tiempo transcurrido final después de esperar a los 3 hilos."
   ]
  },
  {
   "cell_type": "markdown",
   "metadata": {},
   "source": [
    "## Fundamento II - Manejo de Buffers\n",
    "\n",
    "Un `Buffer` es una lista de tamaño máximo acotado, la cuál debe quitar el primer elemento si se llena para insertar el siguiente elemento al final. Es fácil crear un buffer usando las listas de python y verificando que cuándo se supere el tamaño máximo se quite el primer elemento antes de insertar el siguiente valor al final, es decir, si tamaño de buffer es mayor al tamaño máximo, quita el primer elemento e inserta el siguiente elemento al final.\n",
    "\n",
    "Veamos un ejemplo a mano."
   ]
  },
  {
   "cell_type": "code",
   "execution_count": 10,
   "metadata": {},
   "outputs": [
    {
     "name": "stdout",
     "output_type": "stream",
     "text": [
      "[4, 5, 6, 7, 8]\n"
     ]
    }
   ],
   "source": [
    "buffer = [1, 2, 3]\n",
    "\n",
    "MAX = 5\n",
    "\n",
    "if len(buffer) >= MAX:\n",
    "    buffer.pop(0)\n",
    "buffer.append(4) # [1, 2, 3, 4]\n",
    "\n",
    "if len(buffer) >= MAX:\n",
    "    buffer.pop(0)\n",
    "buffer.append(5) # [1, 2, 3, 4, 5]\n",
    "\n",
    "if len(buffer) >= MAX:\n",
    "    buffer.pop(0)\n",
    "buffer.append(6) # [2, 3, 4, 5, 6]\n",
    "\n",
    "if len(buffer) >= MAX:\n",
    "    buffer.pop(0)\n",
    "buffer.append(7) # [3, 4, 5, 6, 7]\n",
    "\n",
    "if len(buffer) >= MAX:\n",
    "    buffer.pop(0)\n",
    "buffer.append(8) # [4, 5, 6, 7, 8]\n",
    "\n",
    "print(buffer)"
   ]
  },
  {
   "cell_type": "markdown",
   "metadata": {},
   "source": [
    "Podemos crear una función que tome el buffer y le acumule un nuevo valor siguiendo el algoritmo, para simplificar el código."
   ]
  },
  {
   "cell_type": "code",
   "execution_count": 13,
   "metadata": {},
   "outputs": [
    {
     "name": "stdout",
     "output_type": "stream",
     "text": [
      "[4, 5, 6, 7, 8]\n"
     ]
    }
   ],
   "source": [
    "def accum(buffer, value):\n",
    "    if len(buffer) >= MAX:\n",
    "        buffer.pop(0)\n",
    "    buffer.append(value)\n",
    "    \n",
    "buffer = [1, 2, 3]\n",
    "MAX = 5\n",
    "\n",
    "accum(buffer, 4)\n",
    "accum(buffer, 5)\n",
    "accum(buffer, 6)\n",
    "accum(buffer, 7)\n",
    "accum(buffer, 8)\n",
    "\n",
    "print(buffer)"
   ]
  },
  {
   "cell_type": "markdown",
   "metadata": {},
   "source": [
    "Ahora podemos crear una clase llamada `Buffer` que aplique varios métodos utiles para trabajar con buffers."
   ]
  },
  {
   "cell_type": "code",
   "execution_count": 30,
   "metadata": {},
   "outputs": [],
   "source": [
    "class Buffer:\n",
    "    def __init__(self, MAX, *values):\n",
    "        self.MAX = MAX\n",
    "        self.buffer = list(values)[-MAX:]\n",
    "    def accum(self, value):\n",
    "        if len(self.buffer) >= self.MAX:\n",
    "            self.buffer.pop(0)\n",
    "        self.buffer.append(value)\n",
    "    def reset(self):\n",
    "        self.buffer = []\n",
    "    def fill(self, value):\n",
    "        while len(self.buffer) < self.MAX:\n",
    "            self.buffer.append(value)\n",
    "    def full(self, value):\n",
    "        self.buffer = [value] * self.MAX\n",
    "    def isEmpty(self):\n",
    "        return len(self.buffer) == 0\n",
    "    def isFull(self):\n",
    "        return len(self.buffer) == self.MAX\n",
    "    def __str__(self):\n",
    "        s1 = \"E\" if self.isEmpty() else \"!E\"\n",
    "        s2 = \"F\" if self.isFull() else \"!F\"\n",
    "        return \"Buffer: {} {} {}\".format(self.buffer, s1, s2)"
   ]
  },
  {
   "cell_type": "code",
   "execution_count": null,
   "metadata": {},
   "outputs": [],
   "source": [
    "# Ejemplo 1\n",
    "buffer = Buffer(5, 1, 2, 3) # MAX = 5; values = [1, 2, 3]\n",
    "\n",
    "print(buffer)\n",
    "\n",
    "buffer.accum(4)\n",
    "buffer.accum(5)\n",
    "buffer.accum(6)\n",
    "buffer.accum(7)\n",
    "buffer.accum(8)\n",
    "\n",
    "print(buffer)"
   ]
  },
  {
   "cell_type": "code",
   "execution_count": 26,
   "metadata": {},
   "outputs": [
    {
     "name": "stdout",
     "output_type": "stream",
     "text": [
      "Buffer: [] E !F\n",
      "Buffer: [4, 5, 6, 7] !E !F\n"
     ]
    }
   ],
   "source": [
    "# Ejemplo 2\n",
    "buffer = Buffer(5) # MAX = 5; values = []\n",
    "\n",
    "print(buffer)\n",
    "\n",
    "buffer.accum(4)\n",
    "buffer.accum(5)\n",
    "buffer.accum(6)\n",
    "buffer.accum(7)\n",
    "\n",
    "print(buffer)"
   ]
  },
  {
   "cell_type": "code",
   "execution_count": 28,
   "metadata": {},
   "outputs": [
    {
     "name": "stdout",
     "output_type": "stream",
     "text": [
      "Buffer: [1, 2, 3, 0, 0, 0, 0, 0, 0, 0] !E F\n"
     ]
    }
   ],
   "source": [
    "# Ejemplo 3\n",
    "buffer = Buffer(10, 1, 2, 3) # MAX = 10; values = [1, 2, 3]\n",
    "\n",
    "buffer.fill(0) # rellena faltantes\n",
    "\n",
    "print(buffer)"
   ]
  },
  {
   "cell_type": "code",
   "execution_count": 31,
   "metadata": {},
   "outputs": [
    {
     "name": "stdout",
     "output_type": "stream",
     "text": [
      "Buffer: [0, 0, 0, 0, 0, 0, 0, 0, 0, 0] !E F\n"
     ]
    }
   ],
   "source": [
    "# Ejemplo 4\n",
    "buffer = Buffer(10, 1, 2, 3) # MAX = 10; values = [1, 2, 3]\n",
    "\n",
    "buffer.full(0) # llena todos (sobreescribe!)\n",
    "\n",
    "print(buffer)"
   ]
  },
  {
   "cell_type": "markdown",
   "metadata": {},
   "source": [
    "## Ejercicio 1.2\n",
    "\n",
    "1. Crea un archivo llamado `lib.py` y agrega la definición de la clase `Buffer`.\n",
    "2. Importa la clase `Buffer` de la librería `lib` usando **`from lib import Buffer`**.\n",
    "2. Crea un buffer de 30 elementos y llenalo con valores aleatorios entre 0 y 1 usando `numpy`, luego muestra la gráfica actual de buffer usando `matplolib` y una gráfica de serie."
   ]
  },
  {
   "cell_type": "markdown",
   "metadata": {},
   "source": [
    "## Fundamento III - Instrumento Simulado\n",
    "\n",
    "Vamos a definir una clase que simule un instrumento y sus lecturas, cada lectura nos devolverá el coseno del tiempo al momento de la lectura."
   ]
  },
  {
   "cell_type": "code",
   "execution_count": 31,
   "metadata": {},
   "outputs": [],
   "source": [
    "import math\n",
    "import time\n",
    "\n",
    "class InstrumentoSim:\n",
    "    def read(self):\n",
    "        return math.cos(time.time())"
   ]
  },
  {
   "cell_type": "code",
   "execution_count": 32,
   "metadata": {},
   "outputs": [
    {
     "data": {
      "image/png": "[encoded data removed]",
      "text/plain": [
       "<Figure size 432x288 with 1 Axes>"
      ]
     },
     "metadata": {
      "needs_background": "light"
     },
     "output_type": "display_data"
    }
   ],
   "source": [
    "# Ejemplo\n",
    "\n",
    "instrumento = InstrumentoSim()\n",
    "\n",
    "lecturas = []\n",
    "\n",
    "for i in range(1, 100):\n",
    "    lecturas.append(instrumento.read())\n",
    "    time.sleep(0.1) # dormimos 100 milisegundos o 0.1 segundos\n",
    "    \n",
    "import matplotlib.pyplot as plt\n",
    "\n",
    "plt.plot(lecturas)\n",
    "plt.show()"
   ]
  },
  {
   "cell_type": "markdown",
   "metadata": {},
   "source": [
    "## Ejercicio 1.3\n",
    "\n",
    "1. Agrega la definición de la clase `InstrumentoSim` al archivo `lib.py` y también las librerías math y time.\n",
    "2. Importa la clase `InstrumentoSim` del módulo `lib.py`.\n",
    "3. Crea un instrumento usando la clase `InstrumentoSIm` y almacena 20 lecturas con invervalos de 0.3 usando marcadores de `*` para resaltar los puntos de lectura."
   ]
  },
  {
   "cell_type": "markdown",
   "metadata": {},
   "source": [
    "## Fundamento IV - Gráfica Dinámica\n",
    "\n",
    "Vamos a ahora a realizar una gráfica dinámica en jupyter que será muy útil. Primero debemos instalar la extensión `ipympl`."
   ]
  },
  {
   "cell_type": "code",
   "execution_count": null,
   "metadata": {},
   "outputs": [],
   "source": [
    "! pip install ipympl"
   ]
  },
  {
   "cell_type": "code",
   "execution_count": 54,
   "metadata": {},
   "outputs": [
    {
     "data": {
      "image/png": "[encoded data removed]",
      "text/plain": [
       "<Figure size 432x288 with 1 Axes>"
      ]
     },
     "metadata": {
      "needs_background": "light"
     },
     "output_type": "display_data"
    }
   ],
   "source": [
    "%matplotlib inline\n",
    "\n",
    "from IPython import display\n",
    "import matplotlib.pyplot as plt\n",
    "import numpy as np\n",
    "import random\n",
    "import time\n",
    "\n",
    "phi = 0\n",
    "\n",
    "for i in range(20):\n",
    "    phi += np.pi / 10\n",
    "    x = np.linspace(-np.pi, np.pi, 100)\n",
    "    y = np.sin(x + phi * np.ones(100))\n",
    "    \n",
    "    plt.clf()\n",
    "    plt.plot(x, y)\n",
    "    \n",
    "    display.clear_output(wait=True)\n",
    "    display.display(plt.gcf())\n",
    "    \n",
    "    time.sleep(0.05)\n",
    "\n",
    "display.clear_output(wait=True)"
   ]
  },
  {
   "cell_type": "markdown",
   "metadata": {},
   "source": [
    "## Ejercicio 1.4\n",
    "\n",
    "1. Revisa el siguiente código y explica línea por línea en comentarios.\n",
    "2. Calcula la diferencia de tiempo que tarda el instrumento en alcanzar dos máximos.\n",
    "3. Basado en el tiempo anterior, calcula el periodo de la función conseno.\n",
    "4. Calcula aproximadamente cuántos datos completan un periodo.\n",
    "5. Ajusta el buffer al valor calculado anteriormente, para que sólo acumule los datos de un periodo."
   ]
  },
  {
   "cell_type": "code",
   "execution_count": 20,
   "metadata": {},
   "outputs": [
    {
     "data": {
      "image/png": "[encoded data removed]",
      "text/plain": [
       "<Figure size 432x288 with 1 Axes>"
      ]
     },
     "metadata": {
      "needs_background": "light"
     },
     "output_type": "display_data"
    }
   ],
   "source": [
    "%matplotlib inline\n",
    "\n",
    "from IPython import display\n",
    "import matplotlib.pyplot as plt\n",
    "import numpy as np\n",
    "import random\n",
    "import time\n",
    "\n",
    "from lib import Buffer, InstrumentoSim\n",
    "\n",
    "instrumento = InstrumentoSim\n",
    "\n",
    "bufferX = Buffer(100)\n",
    "bufferY = Buffer(100)\n",
    "\n",
    "start = time.time()\n",
    "\n",
    "for i in range(1, 122):\n",
    "    bufferX.accum(time.time() - start)\n",
    "    bufferY.accum(instrumento.read())\n",
    "    \n",
    "    plt.clf()\n",
    "    plt.plot(bufferX.buffer, bufferY.buffer, \"o-\")\n",
    "    \n",
    "    display.clear_output(wait=True)\n",
    "    display.display(plt.gcf())\n",
    "    \n",
    "display.clear_output(wait=True)"
   ]
  },
  {
   "cell_type": "markdown",
   "metadata": {},
   "source": [
    "# Práctica I - Graficación en tiempo real de datos leídos desde instrumentos"
   ]
  },
  {
   "cell_type": "markdown",
   "metadata": {},
   "source": [
    "## Práctica\n",
    "1. Crear un hilo que llene un buffer global con un instrumento simulado\n",
    "    1. Crear un variable de paro\n",
    "    2. Crear una función que cree el instrumento y haga lecturas hasta la variable de paro \n",
    "    3. Crear un hilo que llame a la función\n",
    "    4. Crear una función que imprima las lecturas del buffer con retardo\n",
    "    5. Crear un hilo que llame a la función de impresión del buffer\n",
    "2. Graficar el buffer\n",
    "    1. Crear una función que grafique el buffer con retardo\n",
    "    2. Crear un hilo que llame a la función de graficación del buffer\n",
    "    3. Cambiar la bandera de paro\n",
    "\n",
    "En esta práctica vamos a realizar la lectura de un instrumento (real o simulado) usando hilos, en el hilo vamos a leer la lectura y acumularla en un hilo. También debemos graficar el buffer con las lecturas."
   ]
  },
  {
   "cell_type": "markdown",
   "metadata": {},
   "source": [
    "## Paso 1. Crear un hilo que llene un buffer global con un instrumento simulado"
   ]
  },
  {
   "cell_type": "markdown",
   "metadata": {},
   "source": [
    "### 1.A Crear un variable de paro"
   ]
  },
  {
   "cell_type": "code",
   "execution_count": 1,
   "metadata": {},
   "outputs": [],
   "source": [
    "from IPython.display import display, clear_output\n",
    "import matplotlib.pyplot as plt\n",
    "\n",
    "from lib import Buffer\n",
    "\n",
    "buffer = Buffer(10)"
   ]
  },
  {
   "cell_type": "markdown",
   "metadata": {},
   "source": [
    "### 1.B. Crear una función que cree el instrumento y haga lecturas hasta la variable de paro"
   ]
  },
  {
   "cell_type": "code",
   "execution_count": 13,
   "metadata": {},
   "outputs": [],
   "source": [
    "from lib import InstrumentoSim\n",
    "\n",
    "def crearLeerInstrumento():\n",
    "    instrumento = InstrumentoSim()\n",
    "    while not paro:\n",
    "        lectura = instrumento.read()\n",
    "        \n",
    "        buffer.accum(lectura)\n",
    "        \n",
    "        clear_output(wait=True)\n",
    "\n",
    "        plt.clf()\n",
    "        plt.plot(buffer.buffer)\n",
    "\n",
    "        display(plt.gcf())\n",
    "    clear_output(wait=True)"
   ]
  },
  {
   "cell_type": "markdown",
   "metadata": {},
   "source": [
    "### 1.C. Crear un hilo que llame a la función"
   ]
  },
  {
   "cell_type": "code",
   "execution_count": 14,
   "metadata": {},
   "outputs": [
    {
     "data": {
      "image/png": "[encoded data removed]",
      "text/plain": [
       "<Figure size 432x288 with 1 Axes>"
      ]
     },
     "metadata": {},
     "output_type": "display_data"
    }
   ],
   "source": [
    "from threading import Thread\n",
    "\n",
    "paro = False\n",
    "\n",
    "t = Thread(target = crearLeerInstrumento)\n",
    "\n",
    "t.start()"
   ]
  },
  {
   "cell_type": "code",
   "execution_count": 15,
   "metadata": {},
   "outputs": [
    {
     "data": {
      "image/png": "[encoded data removed]",
      "text/plain": [
       "<Figure size 432x288 with 1 Axes>"
      ]
     },
     "metadata": {
      "needs_background": "light"
     },
     "output_type": "display_data"
    }
   ],
   "source": [
    "paro = True\n",
    "\n",
    "t.join()\n",
    "\n",
    "clear_output(wait=True)"
   ]
  }
 ],
 "metadata": {
  "kernelspec": {
   "display_name": "Python 3",
   "language": "python",
   "name": "python3"
  },
  "language_info": {
   "codemirror_mode": {
    "name": "ipython",
    "version": 3
   },
   "file_extension": ".py",
   "mimetype": "text/x-python",
   "name": "python",
   "nbconvert_exporter": "python",
   "pygments_lexer": "ipython3",
   "version": "3.7.3"
  }
 },
 "nbformat": 4,
 "nbformat_minor": 2
}
