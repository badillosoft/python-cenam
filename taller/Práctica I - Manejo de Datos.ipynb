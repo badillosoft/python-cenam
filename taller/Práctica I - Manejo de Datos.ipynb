{
 "cells": [
  {
   "cell_type": "markdown",
   "metadata": {},
   "source": [
    "# Práctica I - Manejo de Datos\n",
    "\n",
    "Alan Badillo Salas (badillo.soft@hotmail.com)\n",
    "\n",
    "El objetivo de está práctica es manipular datos provenientes de archivos CSV, Excel y SQL, mediante DataFrames de Pandas.\n",
    "\n",
    "Primero vamos a recuperar los datos de un archivo CSV.\n",
    "\n",
    "Usaremos el archivo descargado desde https://archive.ics.uci.edu/ml/datasets/Adult y especificamente desde https://archive.ics.uci.edu/ml/machine-learning-databases/adult/adult.data.\n",
    "\n",
    "La primer opción es bajar el archivo en la misma carpeta que esta notebook y la segunda es cargar el archivo desde su url."
   ]
  },
  {
   "cell_type": "markdown",
   "metadata": {},
   "source": [
    "## Paso 1 - (Adquisición) Cargar el archivo CSV desde la URL\n",
    "\n",
    "Mediante la librería pandas (`pd`) vamos a recuperar el archivo desde su URL a un DataFrame de pandas. Observa que el archivo CSV no tiene una primer fila de cabeceras, por lo que indicamos que cargue el archivo sin cabeceras."
   ]
  },
  {
   "cell_type": "code",
   "execution_count": 9,
   "metadata": {},
   "outputs": [
    {
     "data": {
      "text/html": [
       "<div>\n",
       "<style scoped>\n",
       "    .dataframe tbody tr th:only-of-type {\n",
       "        vertical-align: middle;\n",
       "    }\n",
       "\n",
       "    .dataframe tbody tr th {\n",
       "        vertical-align: top;\n",
       "    }\n",
       "\n",
       "    .dataframe thead th {\n",
       "        text-align: right;\n",
       "    }\n",
       "</style>\n",
       "<table border=\"1\" class=\"dataframe\">\n",
       "  <thead>\n",
       "    <tr style=\"text-align: right;\">\n",
       "      <th></th>\n",
       "      <th>0</th>\n",
       "      <th>1</th>\n",
       "      <th>2</th>\n",
       "      <th>3</th>\n",
       "      <th>4</th>\n",
       "      <th>5</th>\n",
       "      <th>6</th>\n",
       "      <th>7</th>\n",
       "      <th>8</th>\n",
       "      <th>9</th>\n",
       "      <th>10</th>\n",
       "      <th>11</th>\n",
       "      <th>12</th>\n",
       "      <th>13</th>\n",
       "      <th>14</th>\n",
       "    </tr>\n",
       "  </thead>\n",
       "  <tbody>\n",
       "    <tr>\n",
       "      <th>0</th>\n",
       "      <td>39</td>\n",
       "      <td>State-gov</td>\n",
       "      <td>77516</td>\n",
       "      <td>Bachelors</td>\n",
       "      <td>13</td>\n",
       "      <td>Never-married</td>\n",
       "      <td>Adm-clerical</td>\n",
       "      <td>Not-in-family</td>\n",
       "      <td>White</td>\n",
       "      <td>Male</td>\n",
       "      <td>2174</td>\n",
       "      <td>0</td>\n",
       "      <td>40</td>\n",
       "      <td>United-States</td>\n",
       "      <td>&lt;=50K</td>\n",
       "    </tr>\n",
       "    <tr>\n",
       "      <th>1</th>\n",
       "      <td>50</td>\n",
       "      <td>Self-emp-not-inc</td>\n",
       "      <td>83311</td>\n",
       "      <td>Bachelors</td>\n",
       "      <td>13</td>\n",
       "      <td>Married-civ-spouse</td>\n",
       "      <td>Exec-managerial</td>\n",
       "      <td>Husband</td>\n",
       "      <td>White</td>\n",
       "      <td>Male</td>\n",
       "      <td>0</td>\n",
       "      <td>0</td>\n",
       "      <td>13</td>\n",
       "      <td>United-States</td>\n",
       "      <td>&lt;=50K</td>\n",
       "    </tr>\n",
       "    <tr>\n",
       "      <th>2</th>\n",
       "      <td>38</td>\n",
       "      <td>Private</td>\n",
       "      <td>215646</td>\n",
       "      <td>HS-grad</td>\n",
       "      <td>9</td>\n",
       "      <td>Divorced</td>\n",
       "      <td>Handlers-cleaners</td>\n",
       "      <td>Not-in-family</td>\n",
       "      <td>White</td>\n",
       "      <td>Male</td>\n",
       "      <td>0</td>\n",
       "      <td>0</td>\n",
       "      <td>40</td>\n",
       "      <td>United-States</td>\n",
       "      <td>&lt;=50K</td>\n",
       "    </tr>\n",
       "  </tbody>\n",
       "</table>\n",
       "</div>"
      ],
      "text/plain": [
       "   0                  1       2           3   4                    5   \\\n",
       "0  39          State-gov   77516   Bachelors  13        Never-married   \n",
       "1  50   Self-emp-not-inc   83311   Bachelors  13   Married-civ-spouse   \n",
       "2  38            Private  215646     HS-grad   9             Divorced   \n",
       "\n",
       "                   6               7       8      9     10  11  12  \\\n",
       "0        Adm-clerical   Not-in-family   White   Male  2174   0  40   \n",
       "1     Exec-managerial         Husband   White   Male     0   0  13   \n",
       "2   Handlers-cleaners   Not-in-family   White   Male     0   0  40   \n",
       "\n",
       "               13      14  \n",
       "0   United-States   <=50K  \n",
       "1   United-States   <=50K  \n",
       "2   United-States   <=50K  "
      ]
     },
     "execution_count": 9,
     "metadata": {},
     "output_type": "execute_result"
    }
   ],
   "source": [
    "import pandas as pd\n",
    "\n",
    "url = \"adult.data\"\n",
    "\n",
    "data = pd.read_csv(url, header=None)\n",
    "\n",
    "data.head(3)"
   ]
  },
  {
   "cell_type": "markdown",
   "metadata": {},
   "source": [
    "## Paso 2 - (Limpieza y Estructuración) Obtener el DataFrame de Análisis\n",
    "\n",
    "Vamos a crear un nuevo DataFrame con las columnas de análisis bien estructuradas, es decir, con nombres y datos manipulables."
   ]
  },
  {
   "cell_type": "code",
   "execution_count": 10,
   "metadata": {},
   "outputs": [
    {
     "name": "stdout",
     "output_type": "stream",
     "text": [
      "<class 'pandas.core.frame.DataFrame'>\n",
      "RangeIndex: 32561 entries, 0 to 32560\n",
      "Data columns (total 15 columns):\n",
      "0     32561 non-null int64\n",
      "1     32561 non-null object\n",
      "2     32561 non-null int64\n",
      "3     32561 non-null object\n",
      "4     32561 non-null int64\n",
      "5     32561 non-null object\n",
      "6     32561 non-null object\n",
      "7     32561 non-null object\n",
      "8     32561 non-null object\n",
      "9     32561 non-null object\n",
      "10    32561 non-null int64\n",
      "11    32561 non-null int64\n",
      "12    32561 non-null int64\n",
      "13    32561 non-null object\n",
      "14    32561 non-null object\n",
      "dtypes: int64(6), object(9)\n",
      "memory usage: 3.7+ MB\n"
     ]
    }
   ],
   "source": [
    "data.info()"
   ]
  },
  {
   "cell_type": "code",
   "execution_count": 11,
   "metadata": {},
   "outputs": [
    {
     "data": {
      "text/html": [
       "<div>\n",
       "<style scoped>\n",
       "    .dataframe tbody tr th:only-of-type {\n",
       "        vertical-align: middle;\n",
       "    }\n",
       "\n",
       "    .dataframe tbody tr th {\n",
       "        vertical-align: top;\n",
       "    }\n",
       "\n",
       "    .dataframe thead th {\n",
       "        text-align: right;\n",
       "    }\n",
       "</style>\n",
       "<table border=\"1\" class=\"dataframe\">\n",
       "  <thead>\n",
       "    <tr style=\"text-align: right;\">\n",
       "      <th></th>\n",
       "      <th>poblacion</th>\n",
       "      <th>grado_edu</th>\n",
       "      <th>razgo</th>\n",
       "      <th>genero</th>\n",
       "      <th>salario_est</th>\n",
       "    </tr>\n",
       "  </thead>\n",
       "  <tbody>\n",
       "    <tr>\n",
       "      <th>17514</th>\n",
       "      <td>417668</td>\n",
       "      <td>13</td>\n",
       "      <td>White</td>\n",
       "      <td>Male</td>\n",
       "      <td>&lt;=50K</td>\n",
       "    </tr>\n",
       "    <tr>\n",
       "      <th>26294</th>\n",
       "      <td>134566</td>\n",
       "      <td>9</td>\n",
       "      <td>White</td>\n",
       "      <td>Male</td>\n",
       "      <td>&lt;=50K</td>\n",
       "    </tr>\n",
       "    <tr>\n",
       "      <th>25812</th>\n",
       "      <td>169482</td>\n",
       "      <td>10</td>\n",
       "      <td>White</td>\n",
       "      <td>Female</td>\n",
       "      <td>&lt;=50K</td>\n",
       "    </tr>\n",
       "    <tr>\n",
       "      <th>8157</th>\n",
       "      <td>121912</td>\n",
       "      <td>10</td>\n",
       "      <td>White</td>\n",
       "      <td>Male</td>\n",
       "      <td>&gt;50K</td>\n",
       "    </tr>\n",
       "    <tr>\n",
       "      <th>23056</th>\n",
       "      <td>306707</td>\n",
       "      <td>9</td>\n",
       "      <td>Black</td>\n",
       "      <td>Female</td>\n",
       "      <td>&lt;=50K</td>\n",
       "    </tr>\n",
       "  </tbody>\n",
       "</table>\n",
       "</div>"
      ],
      "text/plain": [
       "       poblacion  grado_edu   razgo   genero salario_est\n",
       "17514     417668         13   White     Male       <=50K\n",
       "26294     134566          9   White     Male       <=50K\n",
       "25812     169482         10   White   Female       <=50K\n",
       "8157      121912         10   White     Male        >50K\n",
       "23056     306707          9   Black   Female       <=50K"
      ]
     },
     "execution_count": 11,
     "metadata": {},
     "output_type": "execute_result"
    }
   ],
   "source": [
    "data2 = pd.DataFrame({\n",
    "    \"poblacion\": data[2],\n",
    "    \"grado_edu\": data[4],\n",
    "    \"razgo\": data[8],\n",
    "    \"genero\": data[9],\n",
    "    \"salario_est\": data[14]\n",
    "})\n",
    "\n",
    "data2.sample(5)"
   ]
  },
  {
   "cell_type": "code",
   "execution_count": 13,
   "metadata": {},
   "outputs": [
    {
     "name": "stdout",
     "output_type": "stream",
     "text": [
      "0    A\n",
      "1    B\n",
      "2    C\n",
      "3    A\n",
      "4    C\n",
      "5    C\n",
      "6    B\n",
      "dtype: object\n",
      "0    2\n",
      "1    1\n",
      "2    4\n",
      "3    2\n",
      "4    4\n",
      "5    4\n",
      "6    1\n",
      "dtype: int64\n"
     ]
    }
   ],
   "source": [
    "# Ejemplo de mapeo en Series de Pandas\n",
    "\n",
    "S = pd.Series([\"A\", \"B\", \"C\", \"A\", \"C\", \"C\", \"B\"])\n",
    "\n",
    "# Mapeo de codificación finita\n",
    "Sp = S.map({\n",
    "    \"A\": 2,\n",
    "    \"B\": 1,\n",
    "    \"C\": 4\n",
    "})\n",
    "\n",
    "print(S)\n",
    "\n",
    "print(Sp)"
   ]
  },
  {
   "cell_type": "code",
   "execution_count": 15,
   "metadata": {},
   "outputs": [
    {
     "data": {
      "text/plain": [
       "['D', 'A', 'B', 'C']"
      ]
     },
     "execution_count": 15,
     "metadata": {},
     "output_type": "execute_result"
    }
   ],
   "source": [
    "# Calcular los elementos distintos en una serie de Pandas\n",
    "\n",
    "S = pd.Series([\"A\", \"B\", \"C\", \"A\", \"C\", \"D\", \"C\", \"B\"])\n",
    "\n",
    "list(set(S))"
   ]
  },
  {
   "cell_type": "code",
   "execution_count": 17,
   "metadata": {},
   "outputs": [
    {
     "name": "stdout",
     "output_type": "stream",
     "text": [
      "[' White', ' Black', ' Other', ' Amer-Indian-Eskimo', ' Asian-Pac-Islander']\n",
      "[' Female', ' Male']\n",
      "[' >50K', ' <=50K']\n"
     ]
    }
   ],
   "source": [
    "# Ejercicio: Calcular los elementos distintos de `data` en las columnas 8, 9 y 14\n",
    "\n",
    "print( list( set( data[8] ) ) )\n",
    "print( list( set( data[9] ) ) )\n",
    "print( list( set( data[14] ) ) )"
   ]
  },
  {
   "cell_type": "code",
   "execution_count": 22,
   "metadata": {},
   "outputs": [
    {
     "data": {
      "text/html": [
       "<div>\n",
       "<style scoped>\n",
       "    .dataframe tbody tr th:only-of-type {\n",
       "        vertical-align: middle;\n",
       "    }\n",
       "\n",
       "    .dataframe tbody tr th {\n",
       "        vertical-align: top;\n",
       "    }\n",
       "\n",
       "    .dataframe thead th {\n",
       "        text-align: right;\n",
       "    }\n",
       "</style>\n",
       "<table border=\"1\" class=\"dataframe\">\n",
       "  <thead>\n",
       "    <tr style=\"text-align: right;\">\n",
       "      <th></th>\n",
       "      <th>poblacion</th>\n",
       "      <th>grado_edu</th>\n",
       "      <th>razgo</th>\n",
       "      <th>genero</th>\n",
       "      <th>salario_est</th>\n",
       "    </tr>\n",
       "  </thead>\n",
       "  <tbody>\n",
       "    <tr>\n",
       "      <th>28980</th>\n",
       "      <td>201699</td>\n",
       "      <td>16</td>\n",
       "      <td>1</td>\n",
       "      <td>2</td>\n",
       "      <td>1</td>\n",
       "    </tr>\n",
       "    <tr>\n",
       "      <th>12111</th>\n",
       "      <td>152328</td>\n",
       "      <td>10</td>\n",
       "      <td>1</td>\n",
       "      <td>2</td>\n",
       "      <td>-1</td>\n",
       "    </tr>\n",
       "    <tr>\n",
       "      <th>19169</th>\n",
       "      <td>609935</td>\n",
       "      <td>13</td>\n",
       "      <td>2</td>\n",
       "      <td>2</td>\n",
       "      <td>-1</td>\n",
       "    </tr>\n",
       "    <tr>\n",
       "      <th>10716</th>\n",
       "      <td>180920</td>\n",
       "      <td>9</td>\n",
       "      <td>1</td>\n",
       "      <td>2</td>\n",
       "      <td>1</td>\n",
       "    </tr>\n",
       "    <tr>\n",
       "      <th>11425</th>\n",
       "      <td>226717</td>\n",
       "      <td>8</td>\n",
       "      <td>1</td>\n",
       "      <td>2</td>\n",
       "      <td>-1</td>\n",
       "    </tr>\n",
       "  </tbody>\n",
       "</table>\n",
       "</div>"
      ],
      "text/plain": [
       "       poblacion  grado_edu  razgo  genero  salario_est\n",
       "28980     201699         16      1       2            1\n",
       "12111     152328         10      1       2           -1\n",
       "19169     609935         13      2       2           -1\n",
       "10716     180920          9      1       2            1\n",
       "11425     226717          8      1       2           -1"
      ]
     },
     "execution_count": 22,
     "metadata": {},
     "output_type": "execute_result"
    }
   ],
   "source": [
    "data2 = pd.DataFrame({\n",
    "    \"poblacion\": data[2],\n",
    "    \"grado_edu\": data[4],\n",
    "    \"razgo\": data[8].map({\n",
    "        \" White\":1,\n",
    "        \" Black\":2,\n",
    "        \" Other\":3,\n",
    "        \" Amer-Indian-Eskimo\":4,\n",
    "        \" Asian-Pac-Islander\":5\n",
    "    }),\n",
    "    \"genero\": data[9].map({\n",
    "        \" Female\":1,\n",
    "        \" Male\":2\n",
    "    }),\n",
    "    \"salario_est\": data[14].map({\n",
    "        \" >50K\":1,\n",
    "        \" <=50K\":-1\n",
    "    })\n",
    "})\n",
    "\n",
    "data2.sample(5)"
   ]
  },
  {
   "cell_type": "code",
   "execution_count": null,
   "metadata": {},
   "outputs": [],
   "source": []
  },
  {
   "cell_type": "code",
   "execution_count": null,
   "metadata": {},
   "outputs": [],
   "source": []
  }
 ],
 "metadata": {
  "kernelspec": {
   "display_name": "Python 3",
   "language": "python",
   "name": "python3"
  },
  "language_info": {
   "codemirror_mode": {
    "name": "ipython",
    "version": 3
   },
   "file_extension": ".py",
   "mimetype": "text/x-python",
   "name": "python",
   "nbconvert_exporter": "python",
   "pygments_lexer": "ipython3",
   "version": "3.7.3"
  }
 },
 "nbformat": 4,
 "nbformat_minor": 2
}
