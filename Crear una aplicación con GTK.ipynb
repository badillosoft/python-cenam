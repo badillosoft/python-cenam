{
 "cells": [
  {
   "cell_type": "code",
   "execution_count": 5,
   "metadata": {},
   "outputs": [
    {
     "name": "stdout",
     "output_type": "stream",
     "text": [
      "/bin/sh: brew: command not found\n"
     ]
    }
   ],
   "source": [
    "! brew install PyGTK"
   ]
  },
  {
   "cell_type": "code",
   "execution_count": 4,
   "metadata": {},
   "outputs": [
    {
     "name": "stdout",
     "output_type": "stream",
     "text": [
      "Collecting pygtk\n",
      "  Using cached https://files.pythonhosted.org/packages/7c/18/fa4f2de77500dd62a314fd845ff6e903ac2ce551164cb421c5750969f799/pygtk-2.24.0.tar.bz2\n",
      "    Complete output from command python setup.py egg_info:\n",
      "    ********************************************************************\n",
      "    * Building PyGTK using distutils is only supported on windows. *\n",
      "    * To build PyGTK in a supported way, read the INSTALL file.    *\n",
      "    ********************************************************************\n",
      "    \n",
      "    ----------------------------------------\n",
      "\u001b[31mCommand \"python setup.py egg_info\" failed with error code 1 in /private/var/folders/dq/hdzx98wx65nc5h8rnbhb55dw0000gn/T/pip-install-nj434znd/pygtk/\u001b[0m\n"
     ]
    }
   ],
   "source": [
    "! pip install pygtk"
   ]
  },
  {
   "cell_type": "code",
   "execution_count": null,
   "metadata": {},
   "outputs": [],
   "source": [
    "import gi\n",
    "gi.require_version('Gtk', '3.0')\n",
    "from gi.repository import Gtk\n",
    "\n",
    "class MyWindow(Gtk.Window):\n",
    "\n",
    "    def __init__(self):\n",
    "        Gtk.Window.__init__(self, title=\"Hello World\")\n",
    "\n",
    "        self.button = Gtk.Button(label=\"Click Here\")\n",
    "        self.button.connect(\"clicked\", self.on_button_clicked)\n",
    "        self.add(self.button)\n",
    "\n",
    "    def on_button_clicked(self, widget):\n",
    "        print(\"Hello World\")\n",
    "\n",
    "win = MyWindow()\n",
    "win.connect(\"destroy\", Gtk.main_quit)\n",
    "win.show_all()\n",
    "Gtk.main()"
   ]
  }
 ],
 "metadata": {
  "kernelspec": {
   "display_name": "Python 3",
   "language": "python",
   "name": "python3"
  },
  "language_info": {
   "codemirror_mode": {
    "name": "ipython",
    "version": 3
   },
   "file_extension": ".py",
   "mimetype": "text/x-python",
   "name": "python",
   "nbconvert_exporter": "python",
   "pygments_lexer": "ipython3",
   "version": "3.7.3"
  }
 },
 "nbformat": 4,
 "nbformat_minor": 2
}
