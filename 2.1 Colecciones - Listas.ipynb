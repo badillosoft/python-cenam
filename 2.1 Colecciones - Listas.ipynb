{
 "cells": [
  {
   "cell_type": "markdown",
   "metadata": {},
   "source": [
    "# Colecciones - Listas\n",
    "\n",
    "Son variables que nos permiten acumular diferentes datos en estructuras uniformes para su posterior procesamiento.\n",
    "\n",
    "* Listas [,]: son arreglos de datos separados por comas, las cuales pueden variar en el tiempo (pueden ser modificados). Se utilizan para acceder a los datos mediante un índice implícito automático.\n",
    "\n",
    "* Tuplas (,): son arreglos fijos de datos sepados por comas, los cuales no varian en el tiempo (no pueden ser modificados). Se utilizan para empaquetar varias variables en un mismo ente y poder transportar los datos facilmente.\n",
    "\n",
    "* Diccinarios {:,}: son tablas de datos asociados a una clave (el datos es el valor) y pueden variar en el tiempo (pueden ser modificados). Se utilizan para referirse a los datos a tráves de una clave en lugar de un índice."
   ]
  },
  {
   "cell_type": "code",
   "execution_count": 1,
   "metadata": {},
   "outputs": [
    {
     "name": "stdout",
     "output_type": "stream",
     "text": [
      "[1, 2, 3, 4]\n"
     ]
    }
   ],
   "source": [
    "a = [1, 2, 3, 4]\n",
    "\n",
    "print(a)"
   ]
  },
  {
   "cell_type": "code",
   "execution_count": 2,
   "metadata": {},
   "outputs": [
    {
     "name": "stdout",
     "output_type": "stream",
     "text": [
      "La lista contiene 4 elementos\n"
     ]
    }
   ],
   "source": [
    "n = len(a)\n",
    "\n",
    "print(\"La lista contiene {} elementos\".format(n))"
   ]
  },
  {
   "cell_type": "code",
   "execution_count": 3,
   "metadata": {},
   "outputs": [
    {
     "name": "stdout",
     "output_type": "stream",
     "text": [
      "El 2 aparece 5 veces en la lista\n"
     ]
    }
   ],
   "source": [
    "b = [1, 2, 2, 3, 4, 2, 2, 2, 3]\n",
    "\n",
    "c2 = b.count(2)\n",
    "\n",
    "print(\"El 2 aparece {} veces en la lista\".format(c2))"
   ]
  },
  {
   "cell_type": "code",
   "execution_count": 4,
   "metadata": {},
   "outputs": [
    {
     "name": "stdout",
     "output_type": "stream",
     "text": [
      "[1, 2, 3, 4]\n"
     ]
    }
   ],
   "source": [
    "c = []\n",
    "\n",
    "c.append(1)\n",
    "c.append(2)\n",
    "c.append(3)\n",
    "c.append(4)\n",
    "\n",
    "print(c)"
   ]
  },
  {
   "cell_type": "code",
   "execution_count": 5,
   "metadata": {},
   "outputs": [
    {
     "name": "stdout",
     "output_type": "stream",
     "text": [
      "2\n"
     ]
    }
   ],
   "source": [
    "print(c[1]) # 2"
   ]
  },
  {
   "cell_type": "code",
   "execution_count": 6,
   "metadata": {},
   "outputs": [
    {
     "name": "stdout",
     "output_type": "stream",
     "text": [
      "3\n"
     ]
    }
   ],
   "source": [
    "print(b[3]) # 3"
   ]
  },
  {
   "cell_type": "code",
   "execution_count": 8,
   "metadata": {},
   "outputs": [
    {
     "name": "stdout",
     "output_type": "stream",
     "text": [
      "5\n",
      "7\n"
     ]
    }
   ],
   "source": [
    "d = [6, 5, 4, 3, 2, 8, 7, 9, 1]\n",
    "\n",
    "print(d[1]) # 5\n",
    "print(d[6]) # 7"
   ]
  },
  {
   "cell_type": "code",
   "execution_count": 9,
   "metadata": {},
   "outputs": [
    {
     "name": "stdout",
     "output_type": "stream",
     "text": [
      "[4, 3, 2, 8]\n"
     ]
    }
   ],
   "source": [
    "# ejemplo: recuperar los elementos 4, 3, 2, 8 de la lista d\n",
    "\n",
    "e = d[2:6] # nace en índice 2 y acaba en el índice 6 [2,...,6) [2,...,5]\n",
    "\n",
    "print(e)"
   ]
  },
  {
   "cell_type": "code",
   "execution_count": 10,
   "metadata": {},
   "outputs": [
    {
     "name": "stdout",
     "output_type": "stream",
     "text": [
      "[4, 3, 2, 8, 7, 9, 1]\n"
     ]
    }
   ],
   "source": [
    "print( d[2:] )"
   ]
  },
  {
   "cell_type": "code",
   "execution_count": 11,
   "metadata": {},
   "outputs": [
    {
     "name": "stdout",
     "output_type": "stream",
     "text": [
      "[6, 5, 4, 3, 2, 8]\n"
     ]
    }
   ],
   "source": [
    "print( d[:6] )"
   ]
  },
  {
   "cell_type": "code",
   "execution_count": 12,
   "metadata": {},
   "outputs": [
    {
     "name": "stdout",
     "output_type": "stream",
     "text": [
      "[6, 5, 4, 3, 2, 8, 7, 9, 1]\n"
     ]
    }
   ],
   "source": [
    "print( d[:] )"
   ]
  },
  {
   "cell_type": "code",
   "execution_count": 14,
   "metadata": {},
   "outputs": [
    {
     "name": "stdout",
     "output_type": "stream",
     "text": [
      "2\n"
     ]
    }
   ],
   "source": [
    "print( d[4] )"
   ]
  },
  {
   "cell_type": "code",
   "execution_count": 15,
   "metadata": {},
   "outputs": [
    {
     "name": "stdout",
     "output_type": "stream",
     "text": [
      "[2, 8, 7]\n"
     ]
    }
   ],
   "source": [
    "print( d[4:7] ) # [6, 5, 4, 3, 2, 8, 7, 9, 1] -> [2, 8, 7]"
   ]
  },
  {
   "cell_type": "code",
   "execution_count": 16,
   "metadata": {},
   "outputs": [
    {
     "name": "stdout",
     "output_type": "stream",
     "text": [
      "[1, 2, 3, 4]\n"
     ]
    }
   ],
   "source": [
    "c = []\n",
    "\n",
    "c.append(1)\n",
    "c.append(2)\n",
    "c.append(3)\n",
    "c.append(4)\n",
    "\n",
    "print(c)"
   ]
  },
  {
   "cell_type": "code",
   "execution_count": 17,
   "metadata": {},
   "outputs": [
    {
     "name": "stdout",
     "output_type": "stream",
     "text": [
      "[1, 2, 9, 3, 4]\n"
     ]
    }
   ],
   "source": [
    "c.insert(2, 9)\n",
    "\n",
    "print(c)"
   ]
  },
  {
   "cell_type": "code",
   "execution_count": 18,
   "metadata": {},
   "outputs": [
    {
     "name": "stdout",
     "output_type": "stream",
     "text": [
      "[1, 2, 10, 9, 3, 4]\n"
     ]
    }
   ],
   "source": [
    "c.insert(2, 10)\n",
    "\n",
    "print(c)"
   ]
  },
  {
   "cell_type": "code",
   "execution_count": 19,
   "metadata": {},
   "outputs": [
    {
     "name": "stdout",
     "output_type": "stream",
     "text": [
      "[1, 2, 5, 6, 3, 4]\n"
     ]
    }
   ],
   "source": [
    "c[2:4] = [5, 6]\n",
    "\n",
    "print(c)"
   ]
  },
  {
   "cell_type": "code",
   "execution_count": 20,
   "metadata": {},
   "outputs": [
    {
     "name": "stdout",
     "output_type": "stream",
     "text": [
      "4\n",
      "[1, 2, 5, 6, 3]\n"
     ]
    }
   ],
   "source": [
    "x = c.pop()\n",
    "\n",
    "print(x)\n",
    "print(c)"
   ]
  },
  {
   "cell_type": "code",
   "execution_count": 21,
   "metadata": {},
   "outputs": [
    {
     "name": "stdout",
     "output_type": "stream",
     "text": [
      "3\n",
      "[1, 2, 5, 6]\n"
     ]
    }
   ],
   "source": [
    "x = c.pop()\n",
    "\n",
    "print(x)\n",
    "print(c)"
   ]
  },
  {
   "cell_type": "code",
   "execution_count": 22,
   "metadata": {},
   "outputs": [
    {
     "name": "stdout",
     "output_type": "stream",
     "text": [
      "2\n",
      "[1, 5, 6]\n"
     ]
    }
   ],
   "source": [
    "x = c.pop(1) # quita índice 1\n",
    "\n",
    "print(x)\n",
    "print(c)"
   ]
  },
  {
   "cell_type": "code",
   "execution_count": 25,
   "metadata": {},
   "outputs": [
    {
     "name": "stdout",
     "output_type": "stream",
     "text": [
      "[1, 3, 4, 4, 2, 2, 3, 4, 1]\n"
     ]
    }
   ],
   "source": [
    "f = [1, 2, 3, 4, 4, 2, 2, 3, 4, 1]\n",
    "\n",
    "f.remove(2) # quita elemento 2 (el primero que encuentre)\n",
    "\n",
    "print(f)"
   ]
  },
  {
   "cell_type": "code",
   "execution_count": 26,
   "metadata": {},
   "outputs": [
    {
     "ename": "ValueError",
     "evalue": "list.remove(x): x not in list",
     "output_type": "error",
     "traceback": [
      "\u001b[0;31m---------------------------------------------------------------------------\u001b[0m",
      "\u001b[0;31mValueError\u001b[0m                                Traceback (most recent call last)",
      "\u001b[0;32m<ipython-input-26-4d35cb8dc7ff>\u001b[0m in \u001b[0;36m<module>\u001b[0;34m\u001b[0m\n\u001b[0;32m----> 1\u001b[0;31m \u001b[0mf\u001b[0m\u001b[0;34m.\u001b[0m\u001b[0mremove\u001b[0m\u001b[0;34m(\u001b[0m\u001b[0;36m5\u001b[0m\u001b[0;34m)\u001b[0m\u001b[0;34m\u001b[0m\u001b[0;34m\u001b[0m\u001b[0m\n\u001b[0m\u001b[1;32m      2\u001b[0m \u001b[0;34m\u001b[0m\u001b[0m\n\u001b[1;32m      3\u001b[0m \u001b[0mprint\u001b[0m\u001b[0;34m(\u001b[0m\u001b[0mf\u001b[0m\u001b[0;34m)\u001b[0m\u001b[0;34m\u001b[0m\u001b[0;34m\u001b[0m\u001b[0m\n",
      "\u001b[0;31mValueError\u001b[0m: list.remove(x): x not in list"
     ]
    }
   ],
   "source": [
    "f.remove(5) # ERROR: 5 no está en la lista\n",
    "\n",
    "print(f)"
   ]
  },
  {
   "cell_type": "code",
   "execution_count": 27,
   "metadata": {},
   "outputs": [
    {
     "name": "stdout",
     "output_type": "stream",
     "text": [
      "[1, 3, 4, 4, 2, 2, 3, 4, 1]\n"
     ]
    }
   ],
   "source": [
    "if f.count(5) > 0:\n",
    "    f.remove(5) # No se cumple\n",
    "    \n",
    "print(f)"
   ]
  },
  {
   "cell_type": "code",
   "execution_count": 28,
   "metadata": {},
   "outputs": [
    {
     "name": "stdout",
     "output_type": "stream",
     "text": [
      "[1, 3, 4, 4, 3, 4, 1]\n"
     ]
    }
   ],
   "source": [
    "while f.count(2) > 0:\n",
    "    f.remove(2)\n",
    "    \n",
    "print(f)"
   ]
  },
  {
   "cell_type": "code",
   "execution_count": 29,
   "metadata": {},
   "outputs": [
    {
     "name": "stdout",
     "output_type": "stream",
     "text": [
      "[1, 3, 3, 1]\n"
     ]
    }
   ],
   "source": [
    "while f.count(4) > 0:\n",
    "    f.remove(4)\n",
    "    \n",
    "print(f)"
   ]
  },
  {
   "cell_type": "code",
   "execution_count": 30,
   "metadata": {},
   "outputs": [
    {
     "name": "stdout",
     "output_type": "stream",
     "text": [
      "Quita 2\n",
      "Quita 3\n",
      "Quita 3\n",
      "[1, 1, 3, 5]\n"
     ]
    }
   ],
   "source": [
    "g = [1, 1, 2, 3, 2, 2, 5]\n",
    "\n",
    "while g.count(2):\n",
    "    i = g.index(2) # devuelve el índice del elemento 2 (el primero)\n",
    "    g.remove(2)\n",
    "    print(\"Quita {}\".format(i))\n",
    "    \n",
    "print(g)"
   ]
  },
  {
   "cell_type": "code",
   "execution_count": 35,
   "metadata": {},
   "outputs": [
    {
     "name": "stdout",
     "output_type": "stream",
     "text": [
      "2\n",
      "4\n",
      "5\n"
     ]
    }
   ],
   "source": [
    "g = [1, 1, 2, 3, 2, 2, 5]\n",
    "\n",
    "for i in range(len(g)):\n",
    "    if g[i] == 2:\n",
    "        print(i)"
   ]
  },
  {
   "cell_type": "markdown",
   "metadata": {},
   "source": [
    "## IF-ELIF-ELSE\n",
    "\n",
    "La estructura `if` nos permite ejecutar un bloque de código si se cumple una condición. El bloque de código se forma a partir de la declarativa `:` y las siguientes líneas pertenecerán al bloque si estás se encuentran al mismo nivel de indentación (la indentación es una sangría dada por un número fijo de espacios o tabuladores)."
   ]
  },
  {
   "cell_type": "code",
   "execution_count": 36,
   "metadata": {},
   "outputs": [
    {
     "name": "stdout",
     "output_type": "stream",
     "text": [
      "3 es mayor a 1\n"
     ]
    }
   ],
   "source": [
    "if 3 > 1:\n",
    "    print(\"3 es mayor a 1\")"
   ]
  },
  {
   "cell_type": "code",
   "execution_count": 37,
   "metadata": {},
   "outputs": [],
   "source": [
    "if 3 > 5:\n",
    "    print(\"3 es mayor a 5\")"
   ]
  },
  {
   "cell_type": "code",
   "execution_count": 38,
   "metadata": {},
   "outputs": [
    {
     "name": "stdout",
     "output_type": "stream",
     "text": [
      "Esto se imprime porque no está en el bloque del if\n"
     ]
    }
   ],
   "source": [
    "if 3 > 5:\n",
    "    print(\"3 es mayor a 5\")\n",
    "print(\"Esto se imprime porque no está en el bloque del if\")"
   ]
  },
  {
   "cell_type": "code",
   "execution_count": 41,
   "metadata": {},
   "outputs": [
    {
     "name": "stdout",
     "output_type": "stream",
     "text": [
      "3 es mayor a 1\n"
     ]
    }
   ],
   "source": [
    "if 3 > 1:\n",
    "    if 3 > 5:\n",
    "        print(\"3 es mayor a 5\")\n",
    "    print(\"3 es mayor a 1\")"
   ]
  },
  {
   "cell_type": "code",
   "execution_count": 42,
   "metadata": {},
   "outputs": [
    {
     "name": "stdout",
     "output_type": "stream",
     "text": [
      "3 no es mayor a 5\n"
     ]
    }
   ],
   "source": [
    "if 3 > 5:\n",
    "    print(\"3 es mayor a 5\")\n",
    "else:\n",
    "    print(\"3 no es mayor a 5\")"
   ]
  },
  {
   "cell_type": "code",
   "execution_count": 45,
   "metadata": {},
   "outputs": [
    {
     "name": "stdin",
     "output_type": "stream",
     "text": [
      "Dame un número entero:  4\n"
     ]
    },
    {
     "name": "stdout",
     "output_type": "stream",
     "text": [
      "x es 4\n"
     ]
    }
   ],
   "source": [
    "x = int( input(\"Dame un número entero: \") )\n",
    "\n",
    "if x > 3 and x < 5:\n",
    "    print(\"x es 4\")\n",
    "elif x >= 5:\n",
    "    print(\"x mayor o igual a 5\")\n",
    "else:\n",
    "    print(\"x menor o igual a 3\")"
   ]
  },
  {
   "cell_type": "code",
   "execution_count": 51,
   "metadata": {},
   "outputs": [
    {
     "name": "stdin",
     "output_type": "stream",
     "text": [
      "ingresa el peso:  50\n",
      "ingresa la estatura:  1.5\n"
     ]
    },
    {
     "name": "stdout",
     "output_type": "stream",
     "text": [
      "peso correcto\n"
     ]
    }
   ],
   "source": [
    "masa = float( input(\"ingresa el peso: \") )\n",
    "altura = float( input(\"ingresa la estatura: \") )\n",
    "\n",
    "imc = masa / altura ** 2\n",
    "\n",
    "if imc < 21:\n",
    "    print(\"peso bajo\")\n",
    "elif imc < 25:\n",
    "    print(\"peso correcto\")\n",
    "elif imc < 29:\n",
    "    print(\"peso alto\")\n",
    "else:\n",
    "    print(\"peso muy alto\")"
   ]
  },
  {
   "cell_type": "markdown",
   "metadata": {},
   "source": [
    "## FOR-IN\n",
    "\n",
    "La estructura `for` nos permite iterar (secuenciar) un iterable (colección, un rango u otros). `For` retiene en cada iteración el siguiente valor del iterable para ejecutar un mismo bloque de código, es decir, `for` repite un mismo bloque código con diferentes valores extraídos de la colección o el rango."
   ]
  },
  {
   "cell_type": "code",
   "execution_count": 52,
   "metadata": {},
   "outputs": [
    {
     "name": "stdout",
     "output_type": "stream",
     "text": [
      "1\n",
      "2\n",
      "3\n",
      "4\n",
      "5\n",
      "6\n",
      "7\n",
      "8\n",
      "9\n",
      "10\n"
     ]
    }
   ],
   "source": [
    "for i in range(1, 11):\n",
    "    print(i)"
   ]
  },
  {
   "cell_type": "code",
   "execution_count": 53,
   "metadata": {},
   "outputs": [
    {
     "name": "stdout",
     "output_type": "stream",
     "text": [
      "1\n",
      "2\n",
      "4\n",
      "6\n"
     ]
    }
   ],
   "source": [
    "for i in [1, 2, 4, 6]:\n",
    "    print(i)"
   ]
  },
  {
   "cell_type": "code",
   "execution_count": 54,
   "metadata": {},
   "outputs": [
    {
     "name": "stdout",
     "output_type": "stream",
     "text": [
      "manzana\n",
      "pera\n",
      "mango\n",
      "kiwi\n"
     ]
    }
   ],
   "source": [
    "for x in [\"manzana\", \"pera\", \"mango\", \"kiwi\"]:\n",
    "    print(x)"
   ]
  },
  {
   "cell_type": "code",
   "execution_count": 55,
   "metadata": {},
   "outputs": [
    {
     "name": "stdout",
     "output_type": "stream",
     "text": [
      "El texto manzana contiene 7 caracteres\n",
      "El texto pera contiene 4 caracteres\n",
      "El texto mango contiene 5 caracteres\n",
      "El texto kiwi contiene 4 caracteres\n"
     ]
    }
   ],
   "source": [
    "for x in [\"manzana\", \"pera\", \"mango\", \"kiwi\"]:\n",
    "    l = len(x)\n",
    "    print(\"El texto {} contiene {} caracteres\".format(x, l))"
   ]
  },
  {
   "cell_type": "code",
   "execution_count": 60,
   "metadata": {},
   "outputs": [
    {
     "name": "stdout",
     "output_type": "stream",
     "text": [
      "0\n",
      "10\n",
      "20\n",
      "30\n",
      "40\n",
      "50\n",
      "60\n",
      "70\n",
      "80\n",
      "90\n"
     ]
    }
   ],
   "source": [
    "for i in range(0, 101, 10):\n",
    "    print(i)"
   ]
  },
  {
   "cell_type": "code",
   "execution_count": 62,
   "metadata": {},
   "outputs": [
    {
     "name": "stdout",
     "output_type": "stream",
     "text": [
      "500000500000\n"
     ]
    }
   ],
   "source": [
    "s = 0\n",
    "\n",
    "for i in range(1, 1000001):\n",
    "    s = s + i # s += i\n",
    "    \n",
    "print(s)"
   ]
  },
  {
   "cell_type": "markdown",
   "metadata": {},
   "source": [
    "## WHILE\n",
    "\n",
    "La estructura `while` repite un bloque de código mientras se cumpla una condición, lo más común es crear un ciclo infinito romper manualmente el ciclo mediante `break`."
   ]
  },
  {
   "cell_type": "code",
   "execution_count": 64,
   "metadata": {},
   "outputs": [
    {
     "name": "stdout",
     "output_type": "stream",
     "text": [
      "[2, 3, 5, 7, 11, 13, 17, 19, 23, 29, 31, 37, 41, 43, 47, 53, 59, 61, 67, 71, 73, 79, 83, 89, 97, 101, 103, 107, 109, 113, 127, 131, 137, 139, 149, 151, 157, 163, 167, 173, 179, 181, 191, 193, 197, 199, 211, 223, 227, 229, 233, 239, 241, 251, 257, 263, 269, 271, 277, 281, 283, 293, 307, 311, 313, 317, 331, 337, 347, 349, 353, 359, 367, 373, 379, 383, 389, 397, 401, 409, 419, 421, 431, 433, 439, 443, 449, 457, 461, 463, 467, 479, 487, 491, 499, 503, 509, 521, 523, 541, 547, 557, 563, 569, 571, 577, 587, 593, 599, 601, 607, 613, 617, 619, 631, 641, 643, 647, 653, 659, 661, 673, 677, 683, 691, 701, 709, 719, 727, 733, 739, 743, 751, 757, 761, 769, 773, 787, 797, 809, 811, 821, 823, 827, 829, 839, 853, 857, 859, 863, 877, 881, 883, 887, 907, 911, 919, 929, 937, 941, 947, 953, 967, 971, 977, 983, 991, 997]\n"
     ]
    }
   ],
   "source": [
    "p = [2]\n",
    "\n",
    "n = 3\n",
    "\n",
    "while n <= 1000:\n",
    "    esPrimo = True\n",
    "    for d in p:\n",
    "        if n % d == 0:\n",
    "            esPrimo = False\n",
    "    if esPrimo:\n",
    "        p.append(n)\n",
    "    n += 1\n",
    "    \n",
    "print(p)"
   ]
  },
  {
   "cell_type": "code",
   "execution_count": 65,
   "metadata": {},
   "outputs": [
    {
     "name": "stdin",
     "output_type": "stream",
     "text": [
      "Dame la calificación 8\n",
      "Dame la calificación 8.5\n",
      "Dame la calificación 9.3\n",
      "Dame la calificación 6.5\n",
      "Dame la calificación 2.3\n",
      "Dame la calificación -1\n"
     ]
    },
    {
     "name": "stdout",
     "output_type": "stream",
     "text": [
      "[8.0, 8.5, 9.3, 6.5, 2.3]\n"
     ]
    }
   ],
   "source": [
    "calificaciones = []\n",
    "\n",
    "while True:\n",
    "    c = float( input(\"Dame la calificación\") )\n",
    "    if c < 0:\n",
    "        break\n",
    "    calificaciones.append(c)\n",
    "    \n",
    "print(calificaciones)"
   ]
  },
  {
   "cell_type": "code",
   "execution_count": null,
   "metadata": {},
   "outputs": [],
   "source": []
  },
  {
   "cell_type": "code",
   "execution_count": null,
   "metadata": {},
   "outputs": [],
   "source": []
  },
  {
   "cell_type": "code",
   "execution_count": null,
   "metadata": {},
   "outputs": [],
   "source": []
  },
  {
   "cell_type": "code",
   "execution_count": null,
   "metadata": {},
   "outputs": [],
   "source": []
  },
  {
   "cell_type": "code",
   "execution_count": null,
   "metadata": {},
   "outputs": [],
   "source": []
  }
 ],
 "metadata": {
  "kernelspec": {
   "display_name": "Python 3",
   "language": "python",
   "name": "python3"
  },
  "language_info": {
   "codemirror_mode": {
    "name": "ipython",
    "version": 3
   },
   "file_extension": ".py",
   "mimetype": "text/x-python",
   "name": "python",
   "nbconvert_exporter": "python",
   "pygments_lexer": "ipython3",
   "version": "3.7.3"
  }
 },
 "nbformat": 4,
 "nbformat_minor": 2
}
