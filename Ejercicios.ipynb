{
 "cells": [
  {
   "cell_type": "markdown",
   "metadata": {},
   "source": [
    "# Ejercicios 1"
   ]
  },
  {
   "cell_type": "markdown",
   "metadata": {},
   "source": [
    "Solicitar una posición inicial `x0, y0`, una velocidad inicial `v0x, v0y` y determinar lo siguiente:\n",
    "\n",
    "* La magnitud de la velocidad inicial: `raíz de (v0x^2 + v0y^2)`\n",
    "* El ángulo de inclinación de las velocidades: `atan2(v0y, v0x)`"
   ]
  },
  {
   "cell_type": "markdown",
   "metadata": {},
   "source": [
    "Continuando el ejercicio anterior. Solicitar un tiempo y calcular la posición en ese tiempo de `x` y `y` mediante las ecuaciones:\n",
    "\n",
    "* x = v0x * t + x0\n",
    "* y = v0y * t + y0 - 9.81 * t^2 / 2"
   ]
  },
  {
   "cell_type": "markdown",
   "metadata": {},
   "source": [
    "# Ejercicios 2"
   ]
  },
  {
   "cell_type": "markdown",
   "metadata": {},
   "source": [
    "La función `np.sin(x)` es capaz de calcular el seno para cada elemento del vector `x`. Usando está información crea un vector `x` de 100 valores utilizando `np.linspace(-np.pi, np.pi, 100)` y calcula el vector `y = np.sin(x)`. Grafica ambos arreglos usando `plt.plot(x, y, \"o\")`."
   ]
  },
  {
   "cell_type": "code",
   "execution_count": null,
   "metadata": {},
   "outputs": [],
   "source": [
    "t = np.lispace(0, 5, 20)"
   ]
  },
  {
   "cell_type": "code",
   "execution_count": 3,
   "metadata": {},
   "outputs": [
    {
     "name": "stdout",
     "output_type": "stream",
     "text": [
      "Collecting PyVISA\n",
      "\u001b[?25l  Downloading https://files.pythonhosted.org/packages/7a/0d/0044e549631fe9ebc204c1ad53d6a3333f621a324d167a4e0a2b75c0ab0d/PyVISA-1.9.1-py3-none-any.whl (124kB)\n",
      "\u001b[K    100% |████████████████████████████████| 133kB 79kB/s \n",
      "\u001b[?25hInstalling collected packages: PyVISA\n",
      "Successfully installed PyVISA-1.9.1\n"
     ]
    }
   ],
   "source": [
    "! pip install pyvisa"
   ]
  },
  {
   "cell_type": "code",
   "execution_count": 8,
   "metadata": {},
   "outputs": [
    {
     "name": "stdout",
     "output_type": "stream",
     "text": [
      "Collecting pyvisa-py\n",
      "\u001b[?25l  Downloading https://files.pythonhosted.org/packages/e8/50/33fef348ffaec0e773eb0fb465a594554d536df1efef3498a2b7484099fd/PyVISA_py-0.3.1-py3-none-any.whl (45kB)\n",
      "\u001b[K    100% |████████████████████████████████| 51kB 245kB/s \n",
      "\u001b[?25hRequirement already satisfied: pyvisa>=1.8 in /Users/dragon/anaconda3/lib/python3.7/site-packages (from pyvisa-py) (1.9.1)\n",
      "Installing collected packages: pyvisa-py\n",
      "Successfully installed pyvisa-py-0.3.1\n"
     ]
    }
   ],
   "source": [
    "! pip install pyvisa-py"
   ]
  },
  {
   "cell_type": "code",
   "execution_count": 9,
   "metadata": {},
   "outputs": [
    {
     "name": "stdout",
     "output_type": "stream",
     "text": [
      "()\n"
     ]
    }
   ],
   "source": [
    "import visa\n",
    "\n",
    "rm = visa.ResourceManager()\n",
    "print(rm.list_resources())"
   ]
  },
  {
   "cell_type": "code",
   "execution_count": null,
   "metadata": {},
   "outputs": [],
   "source": []
  },
  {
   "cell_type": "code",
   "execution_count": null,
   "metadata": {},
   "outputs": [],
   "source": []
  },
  {
   "cell_type": "code",
   "execution_count": null,
   "metadata": {},
   "outputs": [],
   "source": []
  }
 ],
 "metadata": {
  "kernelspec": {
   "display_name": "Python 3",
   "language": "python",
   "name": "python3"
  },
  "language_info": {
   "codemirror_mode": {
    "name": "ipython",
    "version": 3
   },
   "file_extension": ".py",
   "mimetype": "text/x-python",
   "name": "python",
   "nbconvert_exporter": "python",
   "pygments_lexer": "ipython3",
   "version": "3.7.3"
  }
 },
 "nbformat": 4,
 "nbformat_minor": 2
}
